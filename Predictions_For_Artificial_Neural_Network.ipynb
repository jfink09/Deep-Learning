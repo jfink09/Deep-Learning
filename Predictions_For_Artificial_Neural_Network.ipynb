{
  "nbformat": 4,
  "nbformat_minor": 0,
  "metadata": {
    "colab": {
      "name": "Predictions_For_Artificial_Neural_Network.ipynb",
      "provenance": [],
      "authorship_tag": "ABX9TyPU6tiqQxqKiupEo0pd6B0p",
      "include_colab_link": true
    },
    "kernelspec": {
      "name": "python3",
      "display_name": "Python 3"
    },
    "language_info": {
      "name": "python"
    }
  },
  "cells": [
    {
      "cell_type": "markdown",
      "metadata": {
        "id": "view-in-github",
        "colab_type": "text"
      },
      "source": [
        "<a href=\"https://colab.research.google.com/github/jfink09/Deep-Learning/blob/main/Predictions_For_Artificial_Neural_Network.ipynb\" target=\"_parent\"><img src=\"https://colab.research.google.com/assets/colab-badge.svg\" alt=\"Open In Colab\"/></a>"
      ]
    },
    {
      "cell_type": "code",
      "execution_count": 15,
      "metadata": {
        "id": "mShGGrd4Tle3"
      },
      "outputs": [],
      "source": [
        "# Import libraries\n",
        "\n",
        "# Libraries for data processing\n",
        "import numpy as np\n",
        "from random import randint\n",
        "from sklearn.utils import shuffle\n",
        "from sklearn.preprocessing import MinMaxScaler\n",
        "\n",
        "# Libraries for the deep learning model\n",
        "import tensorflow as tf\n",
        "from tensorflow import keras\n",
        "from tensorflow.keras.models import Sequential\n",
        "from tensorflow.keras.layers import Activation, Dense\n",
        "from tensorflow.keras.optimizers import Adam\n",
        "from tensorflow.keras.metrics import categorical_crossentropy"
      ]
    },
    {
      "cell_type": "code",
      "source": [
        "# Check if the code is running on a GPU\n",
        "physical_devices = tf.config.experimental.list_physical_devices(\"GPU\")\n",
        "print(\"Number of GPUs available: \"+str(len(physical_devices)))"
      ],
      "metadata": {
        "colab": {
          "base_uri": "https://localhost:8080/"
        },
        "id": "qF-F2HvSUKZw",
        "outputId": "8936a752-8f0f-43ff-a3c2-394cd09cd93b"
      },
      "execution_count": 5,
      "outputs": [
        {
          "output_type": "stream",
          "name": "stdout",
          "text": [
            "Number of GPUs available: 0\n"
          ]
        }
      ]
    },
    {
      "cell_type": "code",
      "source": [
        "from os import truncate\n",
        "# Create an empty array for the training samples and labels\n",
        "train_samples = []\n",
        "train_labels = []\n",
        "\n",
        "# Experiment\n",
        "# Drug tested on 2100 people ages 13-100.\n",
        "# 50% over 65 and 50% under 65.\n",
        "# 95% 65+ had side effects and 95% below 65 did not\n",
        "\n",
        "for i in range(50):\n",
        "    # The 5% 13-64 who experienced side effects\n",
        "    random_younger = randint(13,64)             # Generate random number between 13, 64\n",
        "    train_samples.append(random_younger)        # Append the random number to the train_samples array\n",
        "    train_labels.append(1)                      # Append a 1 to trained_labels array to indicate the patient had side effects\n",
        "\n",
        "    # The 5% 65-100 who did not have side effects\n",
        "    random_older = randint(65,100)              # Generate random number between 65, 100\n",
        "    train_samples.append(random_older)          # Append the random number to the train_samples array\n",
        "    train_labels.append(0)                      # Append a 0 to trained_labels array to indicate they did not have side effects\n",
        "\n",
        "for i in range(1000):\n",
        "    # The 95% younger who did not have side effects\n",
        "    random_younger = randint(13, 64)            # Generate random number between 13, 64\n",
        "    train_samples.append(random_younger)        # Append the random number to the train_samples array\n",
        "    train_labels.append(0)                      # Append a 0 to trained_labels array to indicate they did not have side effects\n",
        "\n",
        "    # The 95% older who did have side effects\n",
        "    random_older = randint(65, 100)             # Generate random number between 65, 100\n",
        "    train_samples.append(random_older)          # Append the random number to the train_samples array\n",
        "    train_labels.append(1)                      # Append a 1 to trained_labels array to indicate they did have side effects\n",
        "\n",
        "# Print the values added to the trained_samples array\n",
        "train_samples = train_samples[0:10]\n",
        "for i in train_samples:\n",
        "   print(i)\n",
        "\n",
        "# Print the values added to the trained_labels array (all 0 and 1)\n",
        "train_labels = train_labels[0:10]\n",
        "for i in train_labels:\n",
        "    print(i)\n",
        "\n",
        "# Convert arrays into numpy arrays\n",
        "train_samples = np.array(train_samples)\n",
        "train_labels = np.array(train_labels)\n",
        "\n",
        "train_samples, train_labels = shuffle(train_samples,train_labels)         # Randomly shuffle the values in the arrays\n",
        "\n",
        "scaler = MinMaxScaler(feature_range=(0,1))                                # Rescale our range from 13-100 to 0-1 and fit_transform does not do 1D data so needed to reshape it\n",
        "scaled_train_samples = scaler.fit_transform(train_samples.reshape(-1,1))  # Fit to data by computing the min and max values and transform it \n",
        "\n",
        "scaled_train_samples = scaled_train_samples[0:10]\n",
        "for i in scaled_train_samples:\n",
        "    print(i)"
      ],
      "metadata": {
        "colab": {
          "base_uri": "https://localhost:8080/"
        },
        "id": "Yvvx72JDZlpv",
        "outputId": "061d3e76-a8dd-4267-98f4-6614d9a1aa0e"
      },
      "execution_count": 34,
      "outputs": [
        {
          "output_type": "stream",
          "name": "stdout",
          "text": [
            "33\n",
            "83\n",
            "54\n",
            "96\n",
            "53\n",
            "68\n",
            "41\n",
            "81\n",
            "40\n",
            "67\n",
            "1\n",
            "0\n",
            "1\n",
            "0\n",
            "1\n",
            "0\n",
            "1\n",
            "0\n",
            "1\n",
            "0\n",
            "[0.76190476]\n",
            "[1.]\n",
            "[0.]\n",
            "[0.33333333]\n",
            "[0.55555556]\n",
            "[0.11111111]\n",
            "[0.12698413]\n",
            "[0.53968254]\n",
            "[0.79365079]\n",
            "[0.31746032]\n"
          ]
        }
      ]
    },
    {
      "cell_type": "code",
      "source": [
        "# Build the artificial neural network model\n",
        "model = Sequential([\n",
        "        Dense(units=16,activation=\"relu\",input_shape=(1,)),\n",
        "        Dense(units=32,activation=\"relu\"),\n",
        "        Dense(units=2,activation=\"softmax\")\n",
        "])"
      ],
      "metadata": {
        "id": "iG7VE1JbVJI6"
      },
      "execution_count": 17,
      "outputs": []
    },
    {
      "cell_type": "code",
      "source": [
        "# Show a summary of the model we built\n",
        "model.summary()"
      ],
      "metadata": {
        "colab": {
          "base_uri": "https://localhost:8080/"
        },
        "id": "iZ-FA_TyWJVp",
        "outputId": "373c44af-a08d-4742-d930-7b00272bdac1"
      },
      "execution_count": 18,
      "outputs": [
        {
          "output_type": "stream",
          "name": "stdout",
          "text": [
            "Model: \"sequential_5\"\n",
            "_________________________________________________________________\n",
            " Layer (type)                Output Shape              Param #   \n",
            "=================================================================\n",
            " dense_3 (Dense)             (None, 16)                32        \n",
            "                                                                 \n",
            " dense_4 (Dense)             (None, 32)                544       \n",
            "                                                                 \n",
            " dense_5 (Dense)             (None, 2)                 66        \n",
            "                                                                 \n",
            "=================================================================\n",
            "Total params: 642\n",
            "Trainable params: 642\n",
            "Non-trainable params: 0\n",
            "_________________________________________________________________\n"
          ]
        }
      ]
    },
    {
      "cell_type": "code",
      "source": [
        "# Compile the artificial neural network\n",
        "model.compile(optimizer=Adam(learning_rate=1e-4),\n",
        "              loss=\"sparse_categorical_crossentropy\",\n",
        "              metrics=[\"accuracy\"])"
      ],
      "metadata": {
        "id": "4lXHDDnBX3b_"
      },
      "execution_count": 19,
      "outputs": []
    },
    {
      "cell_type": "code",
      "source": [
        "# Train the model using .fit()\n",
        "# Loss decreases with each epoch and run and accuracy increases with each epoch and run\n",
        "model.fit(x=scaled_train_samples,y=train_labels,validation_split=0.1,batch_size=10,epochs=30,shuffle=True,verbose=2)"
      ],
      "metadata": {
        "colab": {
          "base_uri": "https://localhost:8080/"
        },
        "id": "TRk5UU3ZYkBm",
        "outputId": "b2734db9-7b7f-401a-aacf-95bc2e665450"
      },
      "execution_count": 28,
      "outputs": [
        {
          "output_type": "stream",
          "name": "stdout",
          "text": [
            "Epoch 1/30\n",
            "189/189 - 1s - loss: 0.2441 - accuracy: 0.9370 - val_loss: 0.3071 - val_accuracy: 0.9333 - 805ms/epoch - 4ms/step\n",
            "Epoch 2/30\n",
            "189/189 - 0s - loss: 0.2432 - accuracy: 0.9439 - val_loss: 0.3068 - val_accuracy: 0.9333 - 500ms/epoch - 3ms/step\n",
            "Epoch 3/30\n",
            "189/189 - 0s - loss: 0.2425 - accuracy: 0.9354 - val_loss: 0.3080 - val_accuracy: 0.9333 - 406ms/epoch - 2ms/step\n",
            "Epoch 4/30\n",
            "189/189 - 0s - loss: 0.2421 - accuracy: 0.9418 - val_loss: 0.3054 - val_accuracy: 0.9238 - 455ms/epoch - 2ms/step\n",
            "Epoch 5/30\n",
            "189/189 - 0s - loss: 0.2415 - accuracy: 0.9413 - val_loss: 0.3051 - val_accuracy: 0.9238 - 418ms/epoch - 2ms/step\n",
            "Epoch 6/30\n",
            "189/189 - 0s - loss: 0.2409 - accuracy: 0.9429 - val_loss: 0.3049 - val_accuracy: 0.9333 - 415ms/epoch - 2ms/step\n",
            "Epoch 7/30\n",
            "189/189 - 0s - loss: 0.2406 - accuracy: 0.9402 - val_loss: 0.3050 - val_accuracy: 0.9333 - 440ms/epoch - 2ms/step\n",
            "Epoch 8/30\n",
            "189/189 - 0s - loss: 0.2400 - accuracy: 0.9439 - val_loss: 0.3040 - val_accuracy: 0.9238 - 411ms/epoch - 2ms/step\n",
            "Epoch 9/30\n",
            "189/189 - 0s - loss: 0.2397 - accuracy: 0.9376 - val_loss: 0.3056 - val_accuracy: 0.9333 - 475ms/epoch - 3ms/step\n",
            "Epoch 10/30\n",
            "189/189 - 0s - loss: 0.2392 - accuracy: 0.9407 - val_loss: 0.3060 - val_accuracy: 0.9333 - 418ms/epoch - 2ms/step\n",
            "Epoch 11/30\n",
            "189/189 - 0s - loss: 0.2389 - accuracy: 0.9439 - val_loss: 0.3039 - val_accuracy: 0.9333 - 451ms/epoch - 2ms/step\n",
            "Epoch 12/30\n",
            "189/189 - 0s - loss: 0.2385 - accuracy: 0.9439 - val_loss: 0.3031 - val_accuracy: 0.9333 - 460ms/epoch - 2ms/step\n",
            "Epoch 13/30\n",
            "189/189 - 0s - loss: 0.2381 - accuracy: 0.9439 - val_loss: 0.3030 - val_accuracy: 0.9333 - 445ms/epoch - 2ms/step\n",
            "Epoch 14/30\n",
            "189/189 - 0s - loss: 0.2379 - accuracy: 0.9402 - val_loss: 0.3036 - val_accuracy: 0.9333 - 407ms/epoch - 2ms/step\n",
            "Epoch 15/30\n",
            "189/189 - 0s - loss: 0.2376 - accuracy: 0.9434 - val_loss: 0.3031 - val_accuracy: 0.9333 - 426ms/epoch - 2ms/step\n",
            "Epoch 16/30\n",
            "189/189 - 0s - loss: 0.2369 - accuracy: 0.9444 - val_loss: 0.3022 - val_accuracy: 0.9333 - 466ms/epoch - 2ms/step\n",
            "Epoch 17/30\n",
            "189/189 - 0s - loss: 0.2368 - accuracy: 0.9402 - val_loss: 0.3027 - val_accuracy: 0.9333 - 433ms/epoch - 2ms/step\n",
            "Epoch 18/30\n",
            "189/189 - 0s - loss: 0.2367 - accuracy: 0.9439 - val_loss: 0.3023 - val_accuracy: 0.9333 - 474ms/epoch - 3ms/step\n",
            "Epoch 19/30\n",
            "189/189 - 0s - loss: 0.2362 - accuracy: 0.9439 - val_loss: 0.3028 - val_accuracy: 0.9333 - 431ms/epoch - 2ms/step\n",
            "Epoch 20/30\n",
            "189/189 - 0s - loss: 0.2359 - accuracy: 0.9439 - val_loss: 0.3014 - val_accuracy: 0.9333 - 435ms/epoch - 2ms/step\n",
            "Epoch 21/30\n",
            "189/189 - 0s - loss: 0.2356 - accuracy: 0.9392 - val_loss: 0.3035 - val_accuracy: 0.9333 - 437ms/epoch - 2ms/step\n",
            "Epoch 22/30\n",
            "189/189 - 0s - loss: 0.2355 - accuracy: 0.9439 - val_loss: 0.3029 - val_accuracy: 0.9333 - 413ms/epoch - 2ms/step\n",
            "Epoch 23/30\n",
            "189/189 - 0s - loss: 0.2352 - accuracy: 0.9439 - val_loss: 0.3018 - val_accuracy: 0.9333 - 421ms/epoch - 2ms/step\n",
            "Epoch 24/30\n",
            "189/189 - 0s - loss: 0.2349 - accuracy: 0.9439 - val_loss: 0.3029 - val_accuracy: 0.9333 - 429ms/epoch - 2ms/step\n",
            "Epoch 25/30\n",
            "189/189 - 0s - loss: 0.2347 - accuracy: 0.9439 - val_loss: 0.3014 - val_accuracy: 0.9333 - 460ms/epoch - 2ms/step\n",
            "Epoch 26/30\n",
            "189/189 - 0s - loss: 0.2344 - accuracy: 0.9434 - val_loss: 0.3014 - val_accuracy: 0.9333 - 480ms/epoch - 3ms/step\n",
            "Epoch 27/30\n",
            "189/189 - 0s - loss: 0.2342 - accuracy: 0.9439 - val_loss: 0.3000 - val_accuracy: 0.9333 - 483ms/epoch - 3ms/step\n",
            "Epoch 28/30\n",
            "189/189 - 0s - loss: 0.2340 - accuracy: 0.9439 - val_loss: 0.3016 - val_accuracy: 0.9333 - 418ms/epoch - 2ms/step\n",
            "Epoch 29/30\n",
            "189/189 - 0s - loss: 0.2338 - accuracy: 0.9439 - val_loss: 0.3012 - val_accuracy: 0.9333 - 408ms/epoch - 2ms/step\n",
            "Epoch 30/30\n",
            "189/189 - 0s - loss: 0.2336 - accuracy: 0.9439 - val_loss: 0.3009 - val_accuracy: 0.9333 - 401ms/epoch - 2ms/step\n"
          ]
        },
        {
          "output_type": "execute_result",
          "data": {
            "text/plain": [
              "<keras.callbacks.History at 0x7fdbca37d090>"
            ]
          },
          "metadata": {},
          "execution_count": 28
        }
      ]
    },
    {
      "cell_type": "code",
      "source": [
        "# Neural network prediction with test sets\n",
        "test_labels = []\n",
        "test_samples = []\n",
        "\n",
        "# New experiment data\n",
        "\n",
        "for i in range(10):\n",
        "    # The 5% 13-64 who experienced side effects\n",
        "    random_younger = randint(13,64)             \n",
        "    test_samples.append(random_younger)        \n",
        "    test_labels.append(1)                      \n",
        "\n",
        "    # The 5% 65-100 who did not have side effects\n",
        "    random_older = randint(65,100)              \n",
        "    test_samples.append(random_older)          \n",
        "    test_labels.append(0)                      \n",
        "\n",
        "for i in range(200):\n",
        "    # The 95% younger who did not have side effects\n",
        "    random_younger = randint(13, 64)            \n",
        "    test_samples.append(random_younger)        \n",
        "    test_labels.append(0)                      \n",
        "\n",
        "    # The 95% older who did have side effects\n",
        "    random_older = randint(65, 100)             \n",
        "    test_samples.append(random_older)          \n",
        "    test_labels.append(1)    \n",
        "\n",
        "test_labels = np.array(test_labels)\n",
        "test_samples = np.array(test_samples)\n",
        "test_labels, test_samples = shuffle(test_labels, test_samples)\n",
        "\n",
        "scaled_test_samples = scaler.fit_transform(test_samples.reshape(-1,1))\n",
        "\n",
        "# Prediction\n",
        "predictions = model.predict(scaled_test_samples, batch_size=10, verbose=0)\n",
        "predictions = predictions[0:10]\n",
        "\n",
        "for i in predictions:\n",
        "  print(i)\n",
        "\n",
        "rounded_predictions = np.argmax(predictions,axis=-1)\n",
        "\n",
        "for i in rounded_predictions:\n",
        "  print(i)"
      ],
      "metadata": {
        "colab": {
          "base_uri": "https://localhost:8080/"
        },
        "id": "ERW_j2K9gNpz",
        "outputId": "92b683a0-5189-41b5-98d7-b3050247427c"
      },
      "execution_count": 37,
      "outputs": [
        {
          "output_type": "stream",
          "name": "stdout",
          "text": [
            "[0.02631185 0.9736882 ]\n",
            "[0.08936202 0.91063803]\n",
            "[0.8934429  0.10655711]\n",
            "[0.07334636 0.9266536 ]\n",
            "[0.00821761 0.9917824 ]\n",
            "[0.8154153  0.18458463]\n",
            "[0.11930328 0.8806967 ]\n",
            "[0.8934429  0.10655711]\n",
            "[0.96591884 0.03408115]\n",
            "[0.0489736 0.9510264]\n",
            "1\n",
            "1\n",
            "0\n",
            "1\n",
            "1\n",
            "0\n",
            "1\n",
            "0\n",
            "0\n",
            "1\n"
          ]
        }
      ]
    }
  ]
}