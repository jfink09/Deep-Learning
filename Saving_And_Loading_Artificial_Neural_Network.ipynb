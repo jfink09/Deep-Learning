{
  "nbformat": 4,
  "nbformat_minor": 0,
  "metadata": {
    "colab": {
      "name": "Saving_And_Loading_Artificial_Neural_Network.ipynb",
      "provenance": [],
      "authorship_tag": "ABX9TyNK71TGM0dggKC6PFTmCQyB",
      "include_colab_link": true
    },
    "kernelspec": {
      "name": "python3",
      "display_name": "Python 3"
    },
    "language_info": {
      "name": "python"
    }
  },
  "cells": [
    {
      "cell_type": "markdown",
      "metadata": {
        "id": "view-in-github",
        "colab_type": "text"
      },
      "source": [
        "<a href=\"https://colab.research.google.com/github/jfink09/Deep-Learning/blob/main/Saving_And_Loading_Artificial_Neural_Network.ipynb\" target=\"_parent\"><img src=\"https://colab.research.google.com/assets/colab-badge.svg\" alt=\"Open In Colab\"/></a>"
      ]
    },
    {
      "cell_type": "code",
      "execution_count": 1,
      "metadata": {
        "id": "mShGGrd4Tle3"
      },
      "outputs": [],
      "source": [
        "# Import libraries\n",
        "\n",
        "# Libraries for data processing\n",
        "import numpy as np\n",
        "from random import randint\n",
        "from sklearn.utils import shuffle\n",
        "from sklearn.preprocessing import MinMaxScaler\n",
        "\n",
        "# Libraries for the deep learning model\n",
        "import tensorflow as tf\n",
        "from tensorflow import keras\n",
        "from tensorflow.keras.models import Sequential\n",
        "from tensorflow.keras.layers import Activation, Dense\n",
        "from tensorflow.keras.optimizers import Adam\n",
        "from tensorflow.keras.metrics import categorical_crossentropy"
      ]
    },
    {
      "cell_type": "code",
      "source": [
        "# Check if the code is running on a GPU\n",
        "physical_devices = tf.config.experimental.list_physical_devices(\"GPU\")\n",
        "print(\"Number of GPUs available: \"+str(len(physical_devices)))"
      ],
      "metadata": {
        "colab": {
          "base_uri": "https://localhost:8080/"
        },
        "id": "qF-F2HvSUKZw",
        "outputId": "f4a804fd-bbda-4141-bde6-157f30c60f0f"
      },
      "execution_count": 2,
      "outputs": [
        {
          "output_type": "stream",
          "name": "stdout",
          "text": [
            "Number of GPUs available: 0\n"
          ]
        }
      ]
    },
    {
      "cell_type": "code",
      "source": [
        "from os import truncate\n",
        "# Create an empty array for the training samples and labels\n",
        "train_samples = []\n",
        "train_labels = []\n",
        "\n",
        "# Experiment\n",
        "# Drug tested on 2100 people ages 13-100.\n",
        "# 50% over 65 and 50% under 65.\n",
        "# 95% 65+ had side effects and 95% below 65 did not\n",
        "\n",
        "for i in range(50):\n",
        "    # The 5% 13-64 who experienced side effects\n",
        "    random_younger = randint(13,64)             # Generate random number between 13, 64\n",
        "    train_samples.append(random_younger)        # Append the random number to the train_samples array\n",
        "    train_labels.append(1)                      # Append a 1 to trained_labels array to indicate the patient had side effects\n",
        "\n",
        "    # The 5% 65-100 who did not have side effects\n",
        "    random_older = randint(65,100)              # Generate random number between 65, 100\n",
        "    train_samples.append(random_older)          # Append the random number to the train_samples array\n",
        "    train_labels.append(0)                      # Append a 0 to trained_labels array to indicate they did not have side effects\n",
        "\n",
        "for i in range(1000):\n",
        "    # The 95% younger who did not have side effects\n",
        "    random_younger = randint(13, 64)            # Generate random number between 13, 64\n",
        "    train_samples.append(random_younger)        # Append the random number to the train_samples array\n",
        "    train_labels.append(0)                      # Append a 0 to trained_labels array to indicate they did not have side effects\n",
        "\n",
        "    # The 95% older who did have side effects\n",
        "    random_older = randint(65, 100)             # Generate random number between 65, 100\n",
        "    train_samples.append(random_older)          # Append the random number to the train_samples array\n",
        "    train_labels.append(1)                      # Append a 1 to trained_labels array to indicate they did have side effects\n",
        "\n",
        "# Print the values added to the trained_samples array\n",
        "train_samples = train_samples[0:10]\n",
        "for i in train_samples:\n",
        "   print(i)\n",
        "\n",
        "# Print the values added to the trained_labels array (all 0 and 1)\n",
        "train_labels = train_labels[0:10]\n",
        "for i in train_labels:\n",
        "    print(i)\n",
        "\n",
        "# Convert arrays into numpy arrays\n",
        "train_samples = np.array(train_samples)\n",
        "train_labels = np.array(train_labels)\n",
        "\n",
        "train_samples, train_labels = shuffle(train_samples,train_labels)         # Randomly shuffle the values in the arrays\n",
        "\n",
        "scaler = MinMaxScaler(feature_range=(0,1))                                # Rescale our range from 13-100 to 0-1 and fit_transform does not do 1D data so needed to reshape it\n",
        "scaled_train_samples = scaler.fit_transform(train_samples.reshape(-1,1))  # Fit to data by computing the min and max values and transform it \n",
        "\n",
        "scaled_train_samples = scaled_train_samples[0:10]\n",
        "for i in scaled_train_samples:\n",
        "    print(i)"
      ],
      "metadata": {
        "colab": {
          "base_uri": "https://localhost:8080/"
        },
        "id": "Yvvx72JDZlpv",
        "outputId": "77cf1949-b259-4788-ca71-bbfdf963449a"
      },
      "execution_count": 35,
      "outputs": [
        {
          "output_type": "stream",
          "name": "stdout",
          "text": [
            "33\n",
            "99\n",
            "14\n",
            "69\n",
            "18\n",
            "92\n",
            "32\n",
            "67\n",
            "40\n",
            "80\n",
            "1\n",
            "0\n",
            "1\n",
            "0\n",
            "1\n",
            "0\n",
            "1\n",
            "0\n",
            "1\n",
            "0\n",
            "[0.30588235]\n",
            "[0.77647059]\n",
            "[0.22352941]\n",
            "[0.21176471]\n",
            "[0.62352941]\n",
            "[1.]\n",
            "[0.91764706]\n",
            "[0.64705882]\n",
            "[0.]\n",
            "[0.04705882]\n"
          ]
        }
      ]
    },
    {
      "cell_type": "code",
      "source": [
        "# Build the artificial neural network model\n",
        "model = Sequential([\n",
        "        Dense(units=16,activation=\"relu\",input_shape=(1,)),\n",
        "        Dense(units=32,activation=\"relu\"),\n",
        "        Dense(units=2,activation=\"softmax\")\n",
        "])"
      ],
      "metadata": {
        "id": "iG7VE1JbVJI6"
      },
      "execution_count": 4,
      "outputs": []
    },
    {
      "cell_type": "code",
      "source": [
        "# Show a summary of the model we built\n",
        "model.summary()"
      ],
      "metadata": {
        "colab": {
          "base_uri": "https://localhost:8080/"
        },
        "id": "iZ-FA_TyWJVp",
        "outputId": "25903b21-d26a-4863-867c-1e6417011db2"
      },
      "execution_count": 5,
      "outputs": [
        {
          "output_type": "stream",
          "name": "stdout",
          "text": [
            "Model: \"sequential\"\n",
            "_________________________________________________________________\n",
            " Layer (type)                Output Shape              Param #   \n",
            "=================================================================\n",
            " dense (Dense)               (None, 16)                32        \n",
            "                                                                 \n",
            " dense_1 (Dense)             (None, 32)                544       \n",
            "                                                                 \n",
            " dense_2 (Dense)             (None, 2)                 66        \n",
            "                                                                 \n",
            "=================================================================\n",
            "Total params: 642\n",
            "Trainable params: 642\n",
            "Non-trainable params: 0\n",
            "_________________________________________________________________\n"
          ]
        }
      ]
    },
    {
      "cell_type": "code",
      "source": [
        "# Compile the artificial neural network\n",
        "model.compile(optimizer=Adam(learning_rate=1e-4),\n",
        "              loss=\"sparse_categorical_crossentropy\",\n",
        "              metrics=[\"accuracy\"])"
      ],
      "metadata": {
        "id": "4lXHDDnBX3b_"
      },
      "execution_count": 6,
      "outputs": []
    },
    {
      "cell_type": "code",
      "source": [
        "# Train the model using .fit()\n",
        "# Loss decreases with each epoch and run and accuracy increases with each epoch and run\n",
        "model.fit(x=scaled_train_samples,y=train_labels,validation_split=0.1,batch_size=10,epochs=30,shuffle=True,verbose=2)"
      ],
      "metadata": {
        "colab": {
          "base_uri": "https://localhost:8080/"
        },
        "id": "TRk5UU3ZYkBm",
        "outputId": "c3d5861e-af0b-4c01-d979-40d2b63b0b6a"
      },
      "execution_count": 7,
      "outputs": [
        {
          "output_type": "stream",
          "name": "stdout",
          "text": [
            "Epoch 1/30\n",
            "189/189 - 1s - loss: 0.6806 - accuracy: 0.5635 - val_loss: 0.6687 - val_accuracy: 0.6810 - 1s/epoch - 6ms/step\n",
            "Epoch 2/30\n",
            "189/189 - 0s - loss: 0.6645 - accuracy: 0.6524 - val_loss: 0.6508 - val_accuracy: 0.7238 - 320ms/epoch - 2ms/step\n",
            "Epoch 3/30\n",
            "189/189 - 0s - loss: 0.6460 - accuracy: 0.7175 - val_loss: 0.6277 - val_accuracy: 0.7810 - 337ms/epoch - 2ms/step\n",
            "Epoch 4/30\n",
            "189/189 - 0s - loss: 0.6232 - accuracy: 0.7683 - val_loss: 0.6014 - val_accuracy: 0.8333 - 342ms/epoch - 2ms/step\n",
            "Epoch 5/30\n",
            "189/189 - 0s - loss: 0.5988 - accuracy: 0.8159 - val_loss: 0.5738 - val_accuracy: 0.8429 - 323ms/epoch - 2ms/step\n",
            "Epoch 6/30\n",
            "189/189 - 0s - loss: 0.5743 - accuracy: 0.8238 - val_loss: 0.5469 - val_accuracy: 0.8619 - 325ms/epoch - 2ms/step\n",
            "Epoch 7/30\n",
            "189/189 - 0s - loss: 0.5494 - accuracy: 0.8413 - val_loss: 0.5197 - val_accuracy: 0.8810 - 322ms/epoch - 2ms/step\n",
            "Epoch 8/30\n",
            "189/189 - 0s - loss: 0.5244 - accuracy: 0.8492 - val_loss: 0.4922 - val_accuracy: 0.8905 - 287ms/epoch - 2ms/step\n",
            "Epoch 9/30\n",
            "189/189 - 0s - loss: 0.4995 - accuracy: 0.8635 - val_loss: 0.4654 - val_accuracy: 0.8952 - 315ms/epoch - 2ms/step\n",
            "Epoch 10/30\n",
            "189/189 - 0s - loss: 0.4751 - accuracy: 0.8778 - val_loss: 0.4398 - val_accuracy: 0.9095 - 349ms/epoch - 2ms/step\n",
            "Epoch 11/30\n",
            "189/189 - 0s - loss: 0.4521 - accuracy: 0.8852 - val_loss: 0.4158 - val_accuracy: 0.9286 - 313ms/epoch - 2ms/step\n",
            "Epoch 12/30\n",
            "189/189 - 0s - loss: 0.4305 - accuracy: 0.8899 - val_loss: 0.3936 - val_accuracy: 0.9286 - 339ms/epoch - 2ms/step\n",
            "Epoch 13/30\n",
            "189/189 - 0s - loss: 0.4109 - accuracy: 0.8984 - val_loss: 0.3730 - val_accuracy: 0.9333 - 337ms/epoch - 2ms/step\n",
            "Epoch 14/30\n",
            "189/189 - 0s - loss: 0.3931 - accuracy: 0.9000 - val_loss: 0.3546 - val_accuracy: 0.9333 - 318ms/epoch - 2ms/step\n",
            "Epoch 15/30\n",
            "189/189 - 0s - loss: 0.3773 - accuracy: 0.9079 - val_loss: 0.3385 - val_accuracy: 0.9333 - 313ms/epoch - 2ms/step\n",
            "Epoch 16/30\n",
            "189/189 - 0s - loss: 0.3635 - accuracy: 0.9085 - val_loss: 0.3244 - val_accuracy: 0.9333 - 295ms/epoch - 2ms/step\n",
            "Epoch 17/30\n",
            "189/189 - 0s - loss: 0.3514 - accuracy: 0.9175 - val_loss: 0.3117 - val_accuracy: 0.9476 - 305ms/epoch - 2ms/step\n",
            "Epoch 18/30\n",
            "189/189 - 0s - loss: 0.3410 - accuracy: 0.9169 - val_loss: 0.3008 - val_accuracy: 0.9476 - 314ms/epoch - 2ms/step\n",
            "Epoch 19/30\n",
            "189/189 - 0s - loss: 0.3321 - accuracy: 0.9180 - val_loss: 0.2913 - val_accuracy: 0.9476 - 328ms/epoch - 2ms/step\n",
            "Epoch 20/30\n",
            "189/189 - 0s - loss: 0.3243 - accuracy: 0.9201 - val_loss: 0.2833 - val_accuracy: 0.9476 - 277ms/epoch - 1ms/step\n",
            "Epoch 21/30\n",
            "189/189 - 0s - loss: 0.3176 - accuracy: 0.9190 - val_loss: 0.2766 - val_accuracy: 0.9619 - 323ms/epoch - 2ms/step\n",
            "Epoch 22/30\n",
            "189/189 - 0s - loss: 0.3118 - accuracy: 0.9222 - val_loss: 0.2703 - val_accuracy: 0.9619 - 318ms/epoch - 2ms/step\n",
            "Epoch 23/30\n",
            "189/189 - 0s - loss: 0.3067 - accuracy: 0.9212 - val_loss: 0.2653 - val_accuracy: 0.9619 - 274ms/epoch - 1ms/step\n",
            "Epoch 24/30\n",
            "189/189 - 0s - loss: 0.3023 - accuracy: 0.9254 - val_loss: 0.2600 - val_accuracy: 0.9619 - 273ms/epoch - 1ms/step\n",
            "Epoch 25/30\n",
            "189/189 - 0s - loss: 0.2982 - accuracy: 0.9254 - val_loss: 0.2548 - val_accuracy: 0.9619 - 275ms/epoch - 1ms/step\n",
            "Epoch 26/30\n",
            "189/189 - 0s - loss: 0.2948 - accuracy: 0.9243 - val_loss: 0.2514 - val_accuracy: 0.9619 - 335ms/epoch - 2ms/step\n",
            "Epoch 27/30\n",
            "189/189 - 0s - loss: 0.2918 - accuracy: 0.9254 - val_loss: 0.2478 - val_accuracy: 0.9619 - 356ms/epoch - 2ms/step\n",
            "Epoch 28/30\n",
            "189/189 - 0s - loss: 0.2890 - accuracy: 0.9259 - val_loss: 0.2446 - val_accuracy: 0.9619 - 305ms/epoch - 2ms/step\n",
            "Epoch 29/30\n",
            "189/189 - 0s - loss: 0.2864 - accuracy: 0.9317 - val_loss: 0.2411 - val_accuracy: 0.9619 - 342ms/epoch - 2ms/step\n",
            "Epoch 30/30\n",
            "189/189 - 0s - loss: 0.2845 - accuracy: 0.9280 - val_loss: 0.2386 - val_accuracy: 0.9619 - 276ms/epoch - 1ms/step\n"
          ]
        },
        {
          "output_type": "execute_result",
          "data": {
            "text/plain": [
              "<keras.callbacks.History at 0x7f0373961850>"
            ]
          },
          "metadata": {},
          "execution_count": 7
        }
      ]
    },
    {
      "cell_type": "code",
      "source": [
        "# Neural network prediction with test sets\n",
        "test_labels = []\n",
        "test_samples = []\n",
        "\n",
        "# New experiment data\n",
        "\n",
        "for i in range(10):\n",
        "    # The 5% 13-64 who experienced side effects\n",
        "    random_younger = randint(13,64)             \n",
        "    test_samples.append(random_younger)        \n",
        "    test_labels.append(1)                      \n",
        "\n",
        "    # The 5% 65-100 who did not have side effects\n",
        "    random_older = randint(65,100)              \n",
        "    test_samples.append(random_older)          \n",
        "    test_labels.append(0)                      \n",
        "\n",
        "for i in range(200):\n",
        "    # The 95% younger who did not have side effects\n",
        "    random_younger = randint(13, 64)            \n",
        "    test_samples.append(random_younger)        \n",
        "    test_labels.append(0)                      \n",
        "\n",
        "    # The 95% older who did have side effects\n",
        "    random_older = randint(65, 100)             \n",
        "    test_samples.append(random_older)          \n",
        "    test_labels.append(1)    \n",
        "\n",
        "test_labels = np.array(test_labels)\n",
        "test_samples = np.array(test_samples)\n",
        "test_labels, test_samples = shuffle(test_labels, test_samples)\n",
        "\n",
        "scaled_test_samples = scaler.fit_transform(test_samples.reshape(-1,1))\n",
        "\n",
        "# Prediction\n",
        "predictions = model.predict(scaled_test_samples, batch_size=10, verbose=0)\n",
        "predictions = predictions[0:10]\n",
        "\n",
        "for i in predictions:\n",
        "  print(i)\n",
        "\n",
        "rounded_predictions = np.argmax(predictions,axis=-1)\n",
        "rounded_predictions = rounded_predictions[0:10]\n",
        "\n",
        "for i in rounded_predictions:\n",
        "  print(i)"
      ],
      "metadata": {
        "colab": {
          "base_uri": "https://localhost:8080/"
        },
        "id": "ERW_j2K9gNpz",
        "outputId": "158bf781-a046-4962-8f9c-7b7625d24a35"
      },
      "execution_count": 34,
      "outputs": [
        {
          "output_type": "stream",
          "name": "stdout",
          "text": [
            "[0.7865218  0.21347822]\n",
            "[0.56840134 0.4315987 ]\n",
            "[0.93522716 0.06477279]\n",
            "[0.8671068  0.13289323]\n",
            "[0.15870826 0.8412917 ]\n",
            "[0.03990184 0.96009815]\n",
            "[0.2724882  0.72751176]\n",
            "[0.39879113 0.60120887]\n",
            "[0.9564853  0.04351471]\n",
            "[0.06321112 0.93678886]\n",
            "0\n",
            "0\n",
            "0\n",
            "0\n",
            "1\n",
            "1\n",
            "1\n",
            "1\n",
            "0\n",
            "1\n"
          ]
        }
      ]
    },
    {
      "cell_type": "code",
      "source": [
        "# Create a confusion matrix\n",
        "%matplotlib inline\n",
        "from sklearn.metrics import confusion_matrix\n",
        "import itertools\n",
        "import matplotlib.pyplot as plt\n",
        "\n",
        "cm = confusion_matrix(y_true=test_labels,y_pred=rounded_predictions)"
      ],
      "metadata": {
        "id": "jw6Wv25Ju3CX"
      },
      "execution_count": 9,
      "outputs": []
    },
    {
      "cell_type": "code",
      "source": [
        "# Confusion matrix plot function (can be found on sklearn's website)\n",
        "# Can normalize by setting normalize=True\n",
        "def plot_confusion_matrix(cm, classes,\n",
        "                          normalize=False,\n",
        "                          title=\"Confusion Matrix\",\n",
        "                          cmap=plt.cm.Blues):\n",
        "  plt.imshow(cm, interpolation=\"nearest\", cmap=cmap)\n",
        "  plt.title(title)\n",
        "  plt.colorbar()\n",
        "  tick_marks = np.arange(len(classes))\n",
        "  plt.xticks(tick_marks, classes, rotation=45)\n",
        "  plt.yticks(tick_marks, classes)\n",
        "\n",
        "  if normalize:\n",
        "    cm = cm.astype(\"float\")/cm.sum(axis=1)[:, np.newaxis]\n",
        "    print(\"Normalized confusion matrix\")\n",
        "  else:\n",
        "    print(\"Confusion matrix without normalization\")\n",
        "\n",
        "    print(cm)\n",
        "\n",
        "    thresh = cm.max()/2.\n",
        "    for i,j in itertools.product(range(cm.shape[0]),range(cm.shape[1])):\n",
        "      plt.text(j,i,cm[i,j],\n",
        "               horizontalalignment=\"center\",\n",
        "               color=\"white\" if cm[i,j] > thresh else \"black\")\n",
        "      plt.tight_layout()\n",
        "      plt.ylabel(\"True Label\")\n",
        "      plt.xlabel(\"Predicted Label\")\n",
        "\n",
        "cm_plot_labels = [\"No Side Effects\",\"Had Side Effects\"]\n",
        "plot_confusion_matrix(cm=cm,classes=cm_plot_labels,title=\"Confusion Matrix\")"
      ],
      "metadata": {
        "colab": {
          "base_uri": "https://localhost:8080/",
          "height": 350
        },
        "id": "bHuQQLrsxzdO",
        "outputId": "090f3e01-0099-41cc-a3a8-81d28894619a"
      },
      "execution_count": 10,
      "outputs": [
        {
          "output_type": "stream",
          "name": "stdout",
          "text": [
            "Confusion matrix without normalization\n",
            "[[185  25]\n",
            " [  8 202]]\n"
          ]
        },
        {
          "output_type": "display_data",
          "data": {
            "text/plain": [
              "<Figure size 432x288 with 2 Axes>"
            ],
            "image/png": "[encoded data removed]"
          },
          "metadata": {
            "needs_background": "light"
          }
        }
      ]
    },
    {
      "cell_type": "code",
      "source": [
        "# Save a model (save the architecture, weights, loss, optimizer, and state of optimizer)\n",
        "import os.path\n",
        "if os.path.isfile('models/medical_trial_model.h5') is False:\n",
        "  model.save('models/medical_trial_model.h5')"
      ],
      "metadata": {
        "id": "43ifOCePTHBm"
      },
      "execution_count": 11,
      "outputs": []
    },
    {
      "cell_type": "code",
      "source": [
        "from tensorflow.keras.models import load_model\n",
        "new_model = load_model('models/medical_trial_model.h5')\n",
        "\n",
        "# Show that the saved model's architecture was saved\n",
        "new_model.summary()"
      ],
      "metadata": {
        "colab": {
          "base_uri": "https://localhost:8080/"
        },
        "id": "TKTF98F2T388",
        "outputId": "2685ea3b-2e16-43bf-8255-da75c3f366fe"
      },
      "execution_count": 13,
      "outputs": [
        {
          "output_type": "stream",
          "name": "stdout",
          "text": [
            "Model: \"sequential\"\n",
            "_________________________________________________________________\n",
            " Layer (type)                Output Shape              Param #   \n",
            "=================================================================\n",
            " dense (Dense)               (None, 16)                32        \n",
            "                                                                 \n",
            " dense_1 (Dense)             (None, 32)                544       \n",
            "                                                                 \n",
            " dense_2 (Dense)             (None, 2)                 66        \n",
            "                                                                 \n",
            "=================================================================\n",
            "Total params: 642\n",
            "Trainable params: 642\n",
            "Non-trainable params: 0\n",
            "_________________________________________________________________\n"
          ]
        }
      ]
    },
    {
      "cell_type": "code",
      "source": [
        " # See the weights for the model\n",
        " new_model.get_weights()"
      ],
      "metadata": {
        "colab": {
          "base_uri": "https://localhost:8080/"
        },
        "id": "S_5AHFIEUpUd",
        "outputId": "c5cc66dc-721f-4fee-ac5b-18b2e2d7ccaf"
      },
      "execution_count": 15,
      "outputs": [
        {
          "output_type": "execute_result",
          "data": {
            "text/plain": [
              "[array([[-0.38909823, -0.43466482,  0.5088944 , -0.13281521, -0.34202927,\n",
              "         -0.22296166, -0.3625924 , -0.3403137 , -0.14487329,  0.20993972,\n",
              "         -0.5269841 , -0.00862825,  0.39489105, -0.28731775,  0.6470922 ,\n",
              "         -0.4268095 ]], dtype=float32),\n",
              " array([ 0.        ,  0.        , -0.10315198,  0.        ,  0.        ,\n",
              "         0.        ,  0.        ,  0.        ,  0.        ,  0.27686155,\n",
              "         0.        ,  0.        , -0.10766092,  0.        , -0.1350246 ,\n",
              "         0.        ], dtype=float32),\n",
              " array([[ 0.18617848,  0.08068964,  0.08676207, -0.28818607, -0.22261214,\n",
              "         -0.2588329 ,  0.05535889, -0.05482495,  0.1873847 , -0.3125896 ,\n",
              "         -0.32887125, -0.26136702,  0.28460196, -0.01959762,  0.18489948,\n",
              "         -0.13515845,  0.1408701 ,  0.24325213,  0.21828267,  0.0986152 ,\n",
              "         -0.25413966, -0.00629514,  0.29221103, -0.05917206,  0.19951805,\n",
              "         -0.21042101, -0.26455468,  0.19038299,  0.30741546,  0.26453635,\n",
              "          0.32658592, -0.13374746],\n",
              "        [-0.15825923,  0.2481077 , -0.09830093,  0.03356069,  0.18438253,\n",
              "         -0.30953723,  0.3338752 , -0.07908493,  0.2085233 , -0.16371588,\n",
              "         -0.06758896, -0.32189023, -0.29049024, -0.27147686,  0.04515234,\n",
              "         -0.08605796, -0.12970196,  0.03139469, -0.32911217, -0.09316114,\n",
              "         -0.07031772, -0.12496339, -0.29365942, -0.22011241,  0.08700618,\n",
              "         -0.19922428,  0.14638105,  0.26607993,  0.02239254, -0.10295504,\n",
              "         -0.2725821 ,  0.22206482],\n",
              "        [-0.31785992, -0.2557404 , -0.27154607, -0.4696786 , -0.39433816,\n",
              "         -0.0704664 , -0.01875019, -0.5318864 ,  0.3610411 , -0.10344413,\n",
              "         -0.11721867, -0.25766855, -0.2088496 ,  0.4714601 , -0.05962583,\n",
              "         -0.46447608,  0.5782026 ,  0.57340264,  0.5263069 ,  0.20524539,\n",
              "         -0.23955156, -0.3349592 ,  0.50037855, -0.4167392 , -0.07699893,\n",
              "          0.5169622 , -0.1461269 ,  0.52274   , -0.38753468,  0.01436891,\n",
              "          0.1551274 , -0.1875337 ],\n",
              "        [ 0.3044208 , -0.27766418, -0.3209282 , -0.19148038, -0.11554828,\n",
              "         -0.26693597,  0.10302031,  0.21000972,  0.14561322,  0.02331513,\n",
              "          0.24838391,  0.3443021 , -0.00715697, -0.19535309, -0.35221243,\n",
              "          0.07051504,  0.23324814,  0.28230593,  0.33410278, -0.30156904,\n",
              "          0.18577144, -0.0416474 , -0.14312522, -0.01808006, -0.20442224,\n",
              "          0.25424936, -0.26541337, -0.11494693, -0.01294059, -0.05365604,\n",
              "         -0.15030359, -0.1876145 ],\n",
              "        [ 0.3195564 ,  0.07059741, -0.12266123,  0.33302566,  0.03842217,\n",
              "          0.25701013, -0.34302798,  0.10307938,  0.3112162 ,  0.27543005,\n",
              "         -0.3275127 , -0.25353336,  0.10526419,  0.07251534, -0.16476054,\n",
              "         -0.15853907, -0.18000817,  0.2553335 , -0.07597104,  0.28252128,\n",
              "         -0.21540773,  0.09199375, -0.31785873,  0.19506559, -0.1018379 ,\n",
              "          0.1511471 , -0.1532934 ,  0.22419122, -0.02051169, -0.27766657,\n",
              "          0.17891362, -0.33574843],\n",
              "        [-0.02975172, -0.1174465 , -0.00102502,  0.00271374,  0.10708612,\n",
              "          0.31337735,  0.18774363,  0.2425327 , -0.10817325,  0.07424673,\n",
              "          0.09211555, -0.1981588 , -0.11843045, -0.13914369,  0.34105727,\n",
              "         -0.12732083, -0.26828557, -0.05433714,  0.1921831 , -0.04960296,\n",
              "         -0.15218367,  0.30637774, -0.06378445,  0.14050159, -0.23240261,\n",
              "         -0.19521603,  0.12899187, -0.03766182,  0.21364209,  0.3523533 ,\n",
              "          0.24981585,  0.1527234 ],\n",
              "        [-0.13773581,  0.23836741,  0.20027539, -0.18176098, -0.2770846 ,\n",
              "          0.31650284,  0.23591354,  0.08617714,  0.10247305, -0.18953194,\n",
              "          0.1437816 , -0.05651563,  0.29177603, -0.27242693,  0.27239594,\n",
              "          0.31688437,  0.28871754,  0.09931365,  0.22572276,  0.10541803,\n",
              "         -0.30147117,  0.09529218,  0.09920365,  0.24601993,  0.14309588,\n",
              "         -0.21186462, -0.05056086,  0.27439907, -0.22992699,  0.18820766,\n",
              "         -0.3267689 ,  0.28773007],\n",
              "        [ 0.24191019,  0.19436398,  0.1058405 , -0.2167544 , -0.20373052,\n",
              "         -0.3228515 ,  0.19568118, -0.33702987, -0.13227695,  0.15411678,\n",
              "          0.10243639, -0.31494874,  0.25860497,  0.19206932, -0.11321427,\n",
              "         -0.12472053, -0.25055104, -0.27268335,  0.15454826,  0.17172405,\n",
              "          0.23285577,  0.15357259,  0.09630892,  0.23523751, -0.3035249 ,\n",
              "         -0.20784095, -0.04164472,  0.2775831 , -0.141453  , -0.2430821 ,\n",
              "          0.237214  , -0.12128152],\n",
              "        [ 0.09835929,  0.31481722, -0.22196478, -0.12087472,  0.05248791,\n",
              "          0.02340448, -0.21232933,  0.28378484, -0.10827179,  0.32884666,\n",
              "          0.00648683, -0.24812305, -0.00364268, -0.02875063, -0.25016642,\n",
              "         -0.31360972,  0.3076789 ,  0.02804711, -0.06695879,  0.12983489,\n",
              "         -0.04212755,  0.25779077,  0.34090748,  0.24321684, -0.18323451,\n",
              "          0.23167732, -0.09336513, -0.10677247, -0.29798284,  0.14887676,\n",
              "         -0.0326269 ,  0.04661939],\n",
              "        [ 0.12634072, -0.2705338 , -0.0809533 ,  0.32250622,  0.06202872,\n",
              "         -0.2258894 , -0.344288  ,  0.04686255,  0.02353309, -0.31417912,\n",
              "          0.29675704, -0.01914006, -0.1055118 , -0.0308889 ,  0.0724337 ,\n",
              "          0.19689488, -0.06957209,  0.40237504,  0.3213443 ,  0.06156833,\n",
              "         -0.24674687,  0.06163829, -0.05538095,  0.2077644 ,  0.0473002 ,\n",
              "          0.25920957, -0.00405443,  0.13919476,  0.17980236, -0.17762005,\n",
              "         -0.1440462 ,  0.16505466],\n",
              "        [-0.03398839,  0.0421696 ,  0.11388677, -0.11999461, -0.30453837,\n",
              "         -0.28655767, -0.20583956, -0.32059288,  0.02608806,  0.32731447,\n",
              "          0.3265961 , -0.12235811, -0.01574007,  0.3004401 , -0.3027462 ,\n",
              "         -0.1016717 ,  0.19183138,  0.21959838, -0.28596342, -0.22776696,\n",
              "          0.06812531,  0.2293478 , -0.16223274,  0.14709839,  0.17824516,\n",
              "          0.28179684, -0.07179344, -0.03020048,  0.32963732, -0.29182908,\n",
              "         -0.15680642,  0.21968117],\n",
              "        [ 0.06634226, -0.3322518 ,  0.16117075, -0.07178342, -0.20652553,\n",
              "         -0.22910166, -0.10269889, -0.13092084, -0.06107804,  0.3144143 ,\n",
              "          0.02306217,  0.11810702,  0.24083242,  0.3527402 , -0.03563559,\n",
              "         -0.04278538,  0.19865665, -0.10747017,  0.09870228, -0.2765587 ,\n",
              "          0.34588566,  0.02621028, -0.27219656,  0.09536028, -0.25551856,\n",
              "         -0.03693742,  0.27062485,  0.00737014, -0.03968605,  0.06089437,\n",
              "          0.26367137, -0.07003254],\n",
              "        [-0.04980369, -0.08495337,  0.33425727, -0.36900467, -0.13979751,\n",
              "          0.23088685, -0.20839863, -0.11042946,  0.49533105, -0.1971251 ,\n",
              "         -0.4581745 , -0.32587656, -0.1100332 ,  0.1661547 , -0.14963003,\n",
              "         -0.4479861 ,  0.23711874, -0.01549684,  0.5408989 , -0.25560895,\n",
              "          0.28971484, -0.29389003,  0.64303714, -0.52968955, -0.552992  ,\n",
              "          0.55709434, -0.2561418 ,  0.41145676, -0.21329775,  0.27965486,\n",
              "          0.14867607, -0.04076955],\n",
              "        [ 0.11323005, -0.17291655, -0.0207569 , -0.2462669 , -0.1128476 ,\n",
              "         -0.18420297, -0.0818308 ,  0.18448922,  0.00765917,  0.00137693,\n",
              "         -0.05862087, -0.25658724,  0.2711213 ,  0.0917649 , -0.2772198 ,\n",
              "          0.13485381,  0.04883605, -0.20254612,  0.06735539, -0.19615607,\n",
              "         -0.28800595,  0.18404147, -0.25841606,  0.1693348 , -0.338174  ,\n",
              "         -0.3109295 ,  0.25562796,  0.16129562,  0.10942897,  0.1196807 ,\n",
              "          0.26010683,  0.06761113],\n",
              "        [-0.08610963, -0.30017585, -0.23218834, -0.43514434, -0.04237384,\n",
              "         -0.04095739,  0.01003012, -0.04597076,  0.42085335,  0.17025301,\n",
              "         -0.5265483 , -0.08847249,  0.24355476,  0.5460294 , -0.45286334,\n",
              "         -0.2977268 ,  0.55180055,  0.18724138,  0.3017484 , -0.15728673,\n",
              "          0.02911538,  0.25930858,  0.22508155, -0.13440247, -0.23947889,\n",
              "          0.5857318 , -0.3333159 ,  0.13329986, -0.3947052 , -0.01339521,\n",
              "         -0.19520423, -0.31559303],\n",
              "        [ 0.06594548, -0.13693494, -0.06928664,  0.24202684,  0.28670797,\n",
              "          0.13330212,  0.21827355,  0.2734786 , -0.2172633 ,  0.3328453 ,\n",
              "         -0.18430723,  0.05108264,  0.15532026, -0.3212727 ,  0.06483164,\n",
              "         -0.332951  ,  0.0951508 , -0.0192064 ,  0.35173777, -0.08444929,\n",
              "          0.30596563,  0.3434361 , -0.2300337 ,  0.14394775, -0.06299454,\n",
              "          0.05539924,  0.17288044, -0.14087541,  0.3300105 , -0.04675308,\n",
              "         -0.1823813 ,  0.05955628]], dtype=float32),\n",
              " array([-0.04071806,  0.        ,  0.        ,  0.24512155,  0.12875897,\n",
              "         0.        ,  0.        ,  0.17282173, -0.04258513,  0.        ,\n",
              "         0.1983908 ,  0.        ,  0.0022037 , -0.03675062,  0.18305463,\n",
              "         0.25756264, -0.03285972, -0.10876561, -0.11062476, -0.02155504,\n",
              "         0.        , -0.02003842, -0.02327383,  0.18943946,  0.19971621,\n",
              "        -0.09448952,  0.21809225, -0.06691295,  0.2296793 , -0.00118375,\n",
              "        -0.00053427,  0.10876311], dtype=float32),\n",
              " array([[-0.32757336,  0.27805886],\n",
              "        [-0.23556262, -0.33160296],\n",
              "        [-0.3164733 , -0.18255836],\n",
              "        [ 0.7511988 , -0.37731123],\n",
              "        [ 0.4050705 , -0.5070105 ],\n",
              "        [ 0.19697085,  0.35597107],\n",
              "        [-0.03178835, -0.27566284],\n",
              "        [ 0.7622575 , -0.5157005 ],\n",
              "        [-0.43631986,  0.4937893 ],\n",
              "        [-0.22450352,  0.04938903],\n",
              "        [ 0.56168544, -0.4147818 ],\n",
              "        [ 0.3390943 ,  0.2567543 ],\n",
              "        [ 0.02879892, -0.1707567 ],\n",
              "        [-0.25735763,  0.6920315 ],\n",
              "        [ 0.6018747 , -0.52723145],\n",
              "        [ 0.6502095 , -0.31779292],\n",
              "        [-0.38408962,  0.36454177],\n",
              "        [-0.56277305,  0.5925253 ],\n",
              "        [-0.6666582 ,  0.05151961],\n",
              "        [-0.28140092,  0.00430926],\n",
              "        [ 0.21288434, -0.3341417 ],\n",
              "        [-0.2145668 , -0.19153759],\n",
              "        [-0.3587959 ,  0.49048308],\n",
              "        [ 0.5080168 , -0.66476095],\n",
              "        [ 0.8003007 , -0.85186815],\n",
              "        [-0.64367586,  0.14254075],\n",
              "        [ 0.46035287, -0.72177434],\n",
              "        [-0.55725926,  0.43469846],\n",
              "        [ 0.680145  , -0.394235  ],\n",
              "        [ 0.34642088, -0.14501609],\n",
              "        [-0.17857479, -0.10074372],\n",
              "        [ 0.23602104, -0.59278715]], dtype=float32),\n",
              " array([ 0.09957792, -0.09957796], dtype=float32)]"
            ]
          },
          "metadata": {},
          "execution_count": 15
        }
      ]
    },
    {
      "cell_type": "code",
      "source": [
        "# Show what optimizer is being used\n",
        "new_model.optimizer"
      ],
      "metadata": {
        "colab": {
          "base_uri": "https://localhost:8080/"
        },
        "id": "sQvMc53uU-aY",
        "outputId": "948111c2-e983-4e86-dff1-45d965a667a5"
      },
      "execution_count": 19,
      "outputs": [
        {
          "output_type": "execute_result",
          "data": {
            "text/plain": [
              "<keras.optimizer_v2.adam.Adam at 0x7f036e53edd0>"
            ]
          },
          "metadata": {},
          "execution_count": 19
        }
      ]
    },
    {
      "cell_type": "code",
      "source": [
        "from matplotlib.font_manager import json_dump\n",
        "# If only need to save architecture and not the weights or training configuration (loss, optimizer) use a JSON string\n",
        "json_string = model.to_json()\n",
        "json_string"
      ],
      "metadata": {
        "colab": {
          "base_uri": "https://localhost:8080/",
          "height": 142
        },
        "id": "rV-5fKujVxyO",
        "outputId": "e3e281de-8417-4754-945c-44635d8c8192"
      },
      "execution_count": 23,
      "outputs": [
        {
          "output_type": "execute_result",
          "data": {
            "text/plain": [
              "'{\"class_name\": \"Sequential\", \"config\": {\"name\": \"sequential\", \"layers\": [{\"class_name\": \"InputLayer\", \"config\": {\"batch_input_shape\": [null, 1], \"dtype\": \"float32\", \"sparse\": false, \"ragged\": false, \"name\": \"dense_input\"}}, {\"class_name\": \"Dense\", \"config\": {\"name\": \"dense\", \"trainable\": true, \"batch_input_shape\": [null, 1], \"dtype\": \"float32\", \"units\": 16, \"activation\": \"relu\", \"use_bias\": true, \"kernel_initializer\": {\"class_name\": \"GlorotUniform\", \"config\": {\"seed\": null}}, \"bias_initializer\": {\"class_name\": \"Zeros\", \"config\": {}}, \"kernel_regularizer\": null, \"bias_regularizer\": null, \"activity_regularizer\": null, \"kernel_constraint\": null, \"bias_constraint\": null}}, {\"class_name\": \"Dense\", \"config\": {\"name\": \"dense_1\", \"trainable\": true, \"dtype\": \"float32\", \"units\": 32, \"activation\": \"relu\", \"use_bias\": true, \"kernel_initializer\": {\"class_name\": \"GlorotUniform\", \"config\": {\"seed\": null}}, \"bias_initializer\": {\"class_name\": \"Zeros\", \"config\": {}}, \"kernel_regularizer\": null, \"bias_regularizer\": null, \"activity_regularizer\": null, \"kernel_constraint\": null, \"bias_constraint\": null}}, {\"class_name\": \"Dense\", \"config\": {\"name\": \"dense_2\", \"trainable\": true, \"dtype\": \"float32\", \"units\": 2, \"activation\": \"softmax\", \"use_bias\": true, \"kernel_initializer\": {\"class_name\": \"GlorotUniform\", \"config\": {\"seed\": null}}, \"bias_initializer\": {\"class_name\": \"Zeros\", \"config\": {}}, \"kernel_regularizer\": null, \"bias_regularizer\": null, \"activity_regularizer\": null, \"kernel_constraint\": null, \"bias_constraint\": null}}]}, \"keras_version\": \"2.8.0\", \"backend\": \"tensorflow\"}'"
            ],
            "application/vnd.google.colaboratory.intrinsic+json": {
              "type": "string"
            }
          },
          "metadata": {},
          "execution_count": 23
        }
      ]
    },
    {
      "cell_type": "code",
      "source": [
        "# Reconstruct the model from JSON\n",
        "from tensorflow.keras.models import model_from_json\n",
        "model_architecture = model_from_json(json_string)\n",
        "model_architecture.summary()"
      ],
      "metadata": {
        "colab": {
          "base_uri": "https://localhost:8080/"
        },
        "id": "jL6yY98CXB84",
        "outputId": "e26a45d9-e5e2-46c8-f2ec-a32a26fbeabd"
      },
      "execution_count": 24,
      "outputs": [
        {
          "output_type": "stream",
          "name": "stdout",
          "text": [
            "Model: \"sequential\"\n",
            "_________________________________________________________________\n",
            " Layer (type)                Output Shape              Param #   \n",
            "=================================================================\n",
            " dense (Dense)               (None, 16)                32        \n",
            "                                                                 \n",
            " dense_1 (Dense)             (None, 32)                544       \n",
            "                                                                 \n",
            " dense_2 (Dense)             (None, 2)                 66        \n",
            "                                                                 \n",
            "=================================================================\n",
            "Total params: 642\n",
            "Trainable params: 642\n",
            "Non-trainable params: 0\n",
            "_________________________________________________________________\n"
          ]
        }
      ]
    },
    {
      "cell_type": "code",
      "source": [
        "# To save only the weights\n",
        "if os.path.isfile('models/my_model_weights.h5') is False:\n",
        "  model.save_weights('models/my_model_weights.h5')\n",
        "\n",
        "# Reconstruct the sequential model to add the weights\n",
        "model12 = Sequential([\n",
        "        Dense(units=16,activation=\"relu\",input_shape=(1,)),\n",
        "         Dense(units=32,activation=\"relu\"),\n",
        "         Dense(units=2,activation=\"softmax\")])\n",
        "\n",
        "# Load the weights\n",
        "model12.load_weights('models/my_model_weights.h5')\n",
        "model12.get_weights()"
      ],
      "metadata": {
        "colab": {
          "base_uri": "https://localhost:8080/"
        },
        "id": "SNFFTv2sXekQ",
        "outputId": "1914a429-abaa-4665-e020-38dc85d3df0a"
      },
      "execution_count": 33,
      "outputs": [
        {
          "output_type": "execute_result",
          "data": {
            "text/plain": [
              "[array([[-0.38909823, -0.43466482,  0.5088944 , -0.13281521, -0.34202927,\n",
              "         -0.22296166, -0.3625924 , -0.3403137 , -0.14487329,  0.20993972,\n",
              "         -0.5269841 , -0.00862825,  0.39489105, -0.28731775,  0.6470922 ,\n",
              "         -0.4268095 ]], dtype=float32),\n",
              " array([ 0.        ,  0.        , -0.10315198,  0.        ,  0.        ,\n",
              "         0.        ,  0.        ,  0.        ,  0.        ,  0.27686155,\n",
              "         0.        ,  0.        , -0.10766092,  0.        , -0.1350246 ,\n",
              "         0.        ], dtype=float32),\n",
              " array([[ 0.18617848,  0.08068964,  0.08676207, -0.28818607, -0.22261214,\n",
              "         -0.2588329 ,  0.05535889, -0.05482495,  0.1873847 , -0.3125896 ,\n",
              "         -0.32887125, -0.26136702,  0.28460196, -0.01959762,  0.18489948,\n",
              "         -0.13515845,  0.1408701 ,  0.24325213,  0.21828267,  0.0986152 ,\n",
              "         -0.25413966, -0.00629514,  0.29221103, -0.05917206,  0.19951805,\n",
              "         -0.21042101, -0.26455468,  0.19038299,  0.30741546,  0.26453635,\n",
              "          0.32658592, -0.13374746],\n",
              "        [-0.15825923,  0.2481077 , -0.09830093,  0.03356069,  0.18438253,\n",
              "         -0.30953723,  0.3338752 , -0.07908493,  0.2085233 , -0.16371588,\n",
              "         -0.06758896, -0.32189023, -0.29049024, -0.27147686,  0.04515234,\n",
              "         -0.08605796, -0.12970196,  0.03139469, -0.32911217, -0.09316114,\n",
              "         -0.07031772, -0.12496339, -0.29365942, -0.22011241,  0.08700618,\n",
              "         -0.19922428,  0.14638105,  0.26607993,  0.02239254, -0.10295504,\n",
              "         -0.2725821 ,  0.22206482],\n",
              "        [-0.31785992, -0.2557404 , -0.27154607, -0.4696786 , -0.39433816,\n",
              "         -0.0704664 , -0.01875019, -0.5318864 ,  0.3610411 , -0.10344413,\n",
              "         -0.11721867, -0.25766855, -0.2088496 ,  0.4714601 , -0.05962583,\n",
              "         -0.46447608,  0.5782026 ,  0.57340264,  0.5263069 ,  0.20524539,\n",
              "         -0.23955156, -0.3349592 ,  0.50037855, -0.4167392 , -0.07699893,\n",
              "          0.5169622 , -0.1461269 ,  0.52274   , -0.38753468,  0.01436891,\n",
              "          0.1551274 , -0.1875337 ],\n",
              "        [ 0.3044208 , -0.27766418, -0.3209282 , -0.19148038, -0.11554828,\n",
              "         -0.26693597,  0.10302031,  0.21000972,  0.14561322,  0.02331513,\n",
              "          0.24838391,  0.3443021 , -0.00715697, -0.19535309, -0.35221243,\n",
              "          0.07051504,  0.23324814,  0.28230593,  0.33410278, -0.30156904,\n",
              "          0.18577144, -0.0416474 , -0.14312522, -0.01808006, -0.20442224,\n",
              "          0.25424936, -0.26541337, -0.11494693, -0.01294059, -0.05365604,\n",
              "         -0.15030359, -0.1876145 ],\n",
              "        [ 0.3195564 ,  0.07059741, -0.12266123,  0.33302566,  0.03842217,\n",
              "          0.25701013, -0.34302798,  0.10307938,  0.3112162 ,  0.27543005,\n",
              "         -0.3275127 , -0.25353336,  0.10526419,  0.07251534, -0.16476054,\n",
              "         -0.15853907, -0.18000817,  0.2553335 , -0.07597104,  0.28252128,\n",
              "         -0.21540773,  0.09199375, -0.31785873,  0.19506559, -0.1018379 ,\n",
              "          0.1511471 , -0.1532934 ,  0.22419122, -0.02051169, -0.27766657,\n",
              "          0.17891362, -0.33574843],\n",
              "        [-0.02975172, -0.1174465 , -0.00102502,  0.00271374,  0.10708612,\n",
              "          0.31337735,  0.18774363,  0.2425327 , -0.10817325,  0.07424673,\n",
              "          0.09211555, -0.1981588 , -0.11843045, -0.13914369,  0.34105727,\n",
              "         -0.12732083, -0.26828557, -0.05433714,  0.1921831 , -0.04960296,\n",
              "         -0.15218367,  0.30637774, -0.06378445,  0.14050159, -0.23240261,\n",
              "         -0.19521603,  0.12899187, -0.03766182,  0.21364209,  0.3523533 ,\n",
              "          0.24981585,  0.1527234 ],\n",
              "        [-0.13773581,  0.23836741,  0.20027539, -0.18176098, -0.2770846 ,\n",
              "          0.31650284,  0.23591354,  0.08617714,  0.10247305, -0.18953194,\n",
              "          0.1437816 , -0.05651563,  0.29177603, -0.27242693,  0.27239594,\n",
              "          0.31688437,  0.28871754,  0.09931365,  0.22572276,  0.10541803,\n",
              "         -0.30147117,  0.09529218,  0.09920365,  0.24601993,  0.14309588,\n",
              "         -0.21186462, -0.05056086,  0.27439907, -0.22992699,  0.18820766,\n",
              "         -0.3267689 ,  0.28773007],\n",
              "        [ 0.24191019,  0.19436398,  0.1058405 , -0.2167544 , -0.20373052,\n",
              "         -0.3228515 ,  0.19568118, -0.33702987, -0.13227695,  0.15411678,\n",
              "          0.10243639, -0.31494874,  0.25860497,  0.19206932, -0.11321427,\n",
              "         -0.12472053, -0.25055104, -0.27268335,  0.15454826,  0.17172405,\n",
              "          0.23285577,  0.15357259,  0.09630892,  0.23523751, -0.3035249 ,\n",
              "         -0.20784095, -0.04164472,  0.2775831 , -0.141453  , -0.2430821 ,\n",
              "          0.237214  , -0.12128152],\n",
              "        [ 0.09835929,  0.31481722, -0.22196478, -0.12087472,  0.05248791,\n",
              "          0.02340448, -0.21232933,  0.28378484, -0.10827179,  0.32884666,\n",
              "          0.00648683, -0.24812305, -0.00364268, -0.02875063, -0.25016642,\n",
              "         -0.31360972,  0.3076789 ,  0.02804711, -0.06695879,  0.12983489,\n",
              "         -0.04212755,  0.25779077,  0.34090748,  0.24321684, -0.18323451,\n",
              "          0.23167732, -0.09336513, -0.10677247, -0.29798284,  0.14887676,\n",
              "         -0.0326269 ,  0.04661939],\n",
              "        [ 0.12634072, -0.2705338 , -0.0809533 ,  0.32250622,  0.06202872,\n",
              "         -0.2258894 , -0.344288  ,  0.04686255,  0.02353309, -0.31417912,\n",
              "          0.29675704, -0.01914006, -0.1055118 , -0.0308889 ,  0.0724337 ,\n",
              "          0.19689488, -0.06957209,  0.40237504,  0.3213443 ,  0.06156833,\n",
              "         -0.24674687,  0.06163829, -0.05538095,  0.2077644 ,  0.0473002 ,\n",
              "          0.25920957, -0.00405443,  0.13919476,  0.17980236, -0.17762005,\n",
              "         -0.1440462 ,  0.16505466],\n",
              "        [-0.03398839,  0.0421696 ,  0.11388677, -0.11999461, -0.30453837,\n",
              "         -0.28655767, -0.20583956, -0.32059288,  0.02608806,  0.32731447,\n",
              "          0.3265961 , -0.12235811, -0.01574007,  0.3004401 , -0.3027462 ,\n",
              "         -0.1016717 ,  0.19183138,  0.21959838, -0.28596342, -0.22776696,\n",
              "          0.06812531,  0.2293478 , -0.16223274,  0.14709839,  0.17824516,\n",
              "          0.28179684, -0.07179344, -0.03020048,  0.32963732, -0.29182908,\n",
              "         -0.15680642,  0.21968117],\n",
              "        [ 0.06634226, -0.3322518 ,  0.16117075, -0.07178342, -0.20652553,\n",
              "         -0.22910166, -0.10269889, -0.13092084, -0.06107804,  0.3144143 ,\n",
              "          0.02306217,  0.11810702,  0.24083242,  0.3527402 , -0.03563559,\n",
              "         -0.04278538,  0.19865665, -0.10747017,  0.09870228, -0.2765587 ,\n",
              "          0.34588566,  0.02621028, -0.27219656,  0.09536028, -0.25551856,\n",
              "         -0.03693742,  0.27062485,  0.00737014, -0.03968605,  0.06089437,\n",
              "          0.26367137, -0.07003254],\n",
              "        [-0.04980369, -0.08495337,  0.33425727, -0.36900467, -0.13979751,\n",
              "          0.23088685, -0.20839863, -0.11042946,  0.49533105, -0.1971251 ,\n",
              "         -0.4581745 , -0.32587656, -0.1100332 ,  0.1661547 , -0.14963003,\n",
              "         -0.4479861 ,  0.23711874, -0.01549684,  0.5408989 , -0.25560895,\n",
              "          0.28971484, -0.29389003,  0.64303714, -0.52968955, -0.552992  ,\n",
              "          0.55709434, -0.2561418 ,  0.41145676, -0.21329775,  0.27965486,\n",
              "          0.14867607, -0.04076955],\n",
              "        [ 0.11323005, -0.17291655, -0.0207569 , -0.2462669 , -0.1128476 ,\n",
              "         -0.18420297, -0.0818308 ,  0.18448922,  0.00765917,  0.00137693,\n",
              "         -0.05862087, -0.25658724,  0.2711213 ,  0.0917649 , -0.2772198 ,\n",
              "          0.13485381,  0.04883605, -0.20254612,  0.06735539, -0.19615607,\n",
              "         -0.28800595,  0.18404147, -0.25841606,  0.1693348 , -0.338174  ,\n",
              "         -0.3109295 ,  0.25562796,  0.16129562,  0.10942897,  0.1196807 ,\n",
              "          0.26010683,  0.06761113],\n",
              "        [-0.08610963, -0.30017585, -0.23218834, -0.43514434, -0.04237384,\n",
              "         -0.04095739,  0.01003012, -0.04597076,  0.42085335,  0.17025301,\n",
              "         -0.5265483 , -0.08847249,  0.24355476,  0.5460294 , -0.45286334,\n",
              "         -0.2977268 ,  0.55180055,  0.18724138,  0.3017484 , -0.15728673,\n",
              "          0.02911538,  0.25930858,  0.22508155, -0.13440247, -0.23947889,\n",
              "          0.5857318 , -0.3333159 ,  0.13329986, -0.3947052 , -0.01339521,\n",
              "         -0.19520423, -0.31559303],\n",
              "        [ 0.06594548, -0.13693494, -0.06928664,  0.24202684,  0.28670797,\n",
              "          0.13330212,  0.21827355,  0.2734786 , -0.2172633 ,  0.3328453 ,\n",
              "         -0.18430723,  0.05108264,  0.15532026, -0.3212727 ,  0.06483164,\n",
              "         -0.332951  ,  0.0951508 , -0.0192064 ,  0.35173777, -0.08444929,\n",
              "          0.30596563,  0.3434361 , -0.2300337 ,  0.14394775, -0.06299454,\n",
              "          0.05539924,  0.17288044, -0.14087541,  0.3300105 , -0.04675308,\n",
              "         -0.1823813 ,  0.05955628]], dtype=float32),\n",
              " array([-0.04071806,  0.        ,  0.        ,  0.24512155,  0.12875897,\n",
              "         0.        ,  0.        ,  0.17282173, -0.04258513,  0.        ,\n",
              "         0.1983908 ,  0.        ,  0.0022037 , -0.03675062,  0.18305463,\n",
              "         0.25756264, -0.03285972, -0.10876561, -0.11062476, -0.02155504,\n",
              "         0.        , -0.02003842, -0.02327383,  0.18943946,  0.19971621,\n",
              "        -0.09448952,  0.21809225, -0.06691295,  0.2296793 , -0.00118375,\n",
              "        -0.00053427,  0.10876311], dtype=float32),\n",
              " array([[-0.32757336,  0.27805886],\n",
              "        [-0.23556262, -0.33160296],\n",
              "        [-0.3164733 , -0.18255836],\n",
              "        [ 0.7511988 , -0.37731123],\n",
              "        [ 0.4050705 , -0.5070105 ],\n",
              "        [ 0.19697085,  0.35597107],\n",
              "        [-0.03178835, -0.27566284],\n",
              "        [ 0.7622575 , -0.5157005 ],\n",
              "        [-0.43631986,  0.4937893 ],\n",
              "        [-0.22450352,  0.04938903],\n",
              "        [ 0.56168544, -0.4147818 ],\n",
              "        [ 0.3390943 ,  0.2567543 ],\n",
              "        [ 0.02879892, -0.1707567 ],\n",
              "        [-0.25735763,  0.6920315 ],\n",
              "        [ 0.6018747 , -0.52723145],\n",
              "        [ 0.6502095 , -0.31779292],\n",
              "        [-0.38408962,  0.36454177],\n",
              "        [-0.56277305,  0.5925253 ],\n",
              "        [-0.6666582 ,  0.05151961],\n",
              "        [-0.28140092,  0.00430926],\n",
              "        [ 0.21288434, -0.3341417 ],\n",
              "        [-0.2145668 , -0.19153759],\n",
              "        [-0.3587959 ,  0.49048308],\n",
              "        [ 0.5080168 , -0.66476095],\n",
              "        [ 0.8003007 , -0.85186815],\n",
              "        [-0.64367586,  0.14254075],\n",
              "        [ 0.46035287, -0.72177434],\n",
              "        [-0.55725926,  0.43469846],\n",
              "        [ 0.680145  , -0.394235  ],\n",
              "        [ 0.34642088, -0.14501609],\n",
              "        [-0.17857479, -0.10074372],\n",
              "        [ 0.23602104, -0.59278715]], dtype=float32),\n",
              " array([ 0.09957792, -0.09957796], dtype=float32)]"
            ]
          },
          "metadata": {},
          "execution_count": 33
        }
      ]
    }
  ]
}