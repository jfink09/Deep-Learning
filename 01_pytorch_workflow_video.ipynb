{
  "nbformat": 4,
  "nbformat_minor": 0,
  "metadata": {
    "colab": {
      "provenance": [],
      "authorship_tag": "ABX9TyPrnKl933hnVYnPtUnwDCyZ",
      "include_colab_link": true
    },
    "kernelspec": {
      "name": "python3",
      "display_name": "Python 3"
    },
    "language_info": {
      "name": "python"
    }
  },
  "cells": [
    {
      "cell_type": "markdown",
      "metadata": {
        "id": "view-in-github",
        "colab_type": "text"
      },
      "source": [
        "<a href=\"https://colab.research.google.com/github/jfink09/Deep-Learning/blob/main/01_pytorch_workflow_video.ipynb\" target=\"_parent\"><img src=\"https://colab.research.google.com/assets/colab-badge.svg\" alt=\"Open In Colab\"/></a>"
      ]
    },
    {
      "cell_type": "markdown",
      "source": [
        "### PyTorch workflow\n",
        "\n",
        "Example of PyTorch end-to-end workflow\n",
        "\n",
        "Resources:\n",
        "* Ground truth notebook -\n",
        "* Book version of notebook -\n",
        "* Ask question - "
      ],
      "metadata": {
        "id": "OqMxQY2Khe_8"
      }
    },
    {
      "cell_type": "code",
      "source": [
        "what_we_are_covering = {1: \"data (prepare and load the model)\",\n",
        "                        2: \"build. model\",\n",
        "                        3: \"fitting the model to data (training)\",\n",
        "                        4: \"making predictions and evaluating the model (inference)\",\n",
        "                        5: \"saving and loading a model\",\n",
        "                        6: \"putting it all together\"}\n",
        "\n",
        "what_we_are_covering"
      ],
      "metadata": {
        "colab": {
          "base_uri": "https://localhost:8080/"
        },
        "id": "ZdfqsQLuh4nF",
        "outputId": "f08c5cde-3507-44b0-d65c-2ba10ab4f4f5"
      },
      "execution_count": 1,
      "outputs": [
        {
          "output_type": "execute_result",
          "data": {
            "text/plain": [
              "{1: 'data (prepare and load the model)',\n",
              " 2: 'build. model',\n",
              " 3: 'fitting the model to data (training)',\n",
              " 4: 'making predictions and evaluating the model (inference)',\n",
              " 5: 'saving and loading a model',\n",
              " 6: 'putting it all together'}"
            ]
          },
          "metadata": {},
          "execution_count": 1
        }
      ]
    },
    {
      "cell_type": "code",
      "source": [
        "import torch\n",
        "from torch import nn # nn contains all of PyTorch's building blocks for neural networks\n",
        "import matplotlib.pyplot as plt\n",
        "\n",
        "# Check PyTorch version\n",
        "torch.__version__"
      ],
      "metadata": {
        "colab": {
          "base_uri": "https://localhost:8080/",
          "height": 35
        },
        "id": "-KUpu11viiwQ",
        "outputId": "1dc1b027-1064-4c49-ecf1-fd32d442f62d"
      },
      "execution_count": 2,
      "outputs": [
        {
          "output_type": "execute_result",
          "data": {
            "text/plain": [
              "'1.12.1+cu113'"
            ],
            "application/vnd.google.colaboratory.intrinsic+json": {
              "type": "string"
            }
          },
          "metadata": {},
          "execution_count": 2
        }
      ]
    },
    {
      "cell_type": "markdown",
      "source": [
        "## 1. Data (preparing and loading)\n",
        "\n",
        "Data can be almost anything in ML\n",
        "\n",
        "* Excel spreadsheet\n",
        "* Images of any kind\n",
        "* Videos\n",
        "* Audio (songs or podcasts)\n",
        "* DNA\n",
        "* Text\n",
        "\n",
        "ML is a game of two parts:\n",
        "\n",
        "1. Get data into a numerical representation\n",
        "2. Build a model to learn patterns in that numerical representation\n",
        "\n",
        "To showcase this, create some *known* data using the linear regression formula:\n",
        "\n",
        "Y_i=f(X_i, \\beta)+e_i or y = mx + b\n",
        "\n",
        "Slope = gradient\n",
        "\n",
        "Use a linear regression to make a straight line with *known* **parameters**.\n"
      ],
      "metadata": {
        "id": "obQ9OTmCjOf9"
      }
    },
    {
      "cell_type": "code",
      "source": [
        "# Create a known parameter\n",
        "weight = 0.7 # m (slope)\n",
        "bias = 0.3 # b (y-intercept)\n",
        "\n",
        "# build a model to estimate the weights and biases\n",
        "start = 0\n",
        "end = 1\n",
        "step = 0.02\n",
        "X = torch.arange(start,end,step).unsqueeze(dim=1) # Unsqueezed adds an extra dimension (an extra square bracket around all of the values)\n",
        "y = weight*X + bias\n",
        "\n",
        "X[:10], y[:10]"
      ],
      "metadata": {
        "colab": {
          "base_uri": "https://localhost:8080/"
        },
        "id": "rd_DBDuyjVvz",
        "outputId": "8a5065e3-fa16-4e3e-bada-a62f3be2bca2"
      },
      "execution_count": 3,
      "outputs": [
        {
          "output_type": "execute_result",
          "data": {
            "text/plain": [
              "(tensor([[0.0000],\n",
              "         [0.0200],\n",
              "         [0.0400],\n",
              "         [0.0600],\n",
              "         [0.0800],\n",
              "         [0.1000],\n",
              "         [0.1200],\n",
              "         [0.1400],\n",
              "         [0.1600],\n",
              "         [0.1800]]), tensor([[0.3000],\n",
              "         [0.3140],\n",
              "         [0.3280],\n",
              "         [0.3420],\n",
              "         [0.3560],\n",
              "         [0.3700],\n",
              "         [0.3840],\n",
              "         [0.3980],\n",
              "         [0.4120],\n",
              "         [0.4260]]))"
            ]
          },
          "metadata": {},
          "execution_count": 3
        }
      ]
    },
    {
      "cell_type": "code",
      "source": [
        "len(X), len(y)"
      ],
      "metadata": {
        "colab": {
          "base_uri": "https://localhost:8080/"
        },
        "id": "u13cx8KF9aHs",
        "outputId": "04cc486f-58a0-4dae-d6ec-94b8b6887bcf"
      },
      "execution_count": 4,
      "outputs": [
        {
          "output_type": "execute_result",
          "data": {
            "text/plain": [
              "(50, 50)"
            ]
          },
          "metadata": {},
          "execution_count": 4
        }
      ]
    },
    {
      "cell_type": "markdown",
      "source": [
        "### Splitting data into training and test sets (one of the most important part of ML)\n",
        "\n",
        "Training set (course material) -> validation set (practice test) -> test set (actual test)\n",
        "\n",
        "Generalization - The ability for ML model to perform well on data it has not seen before.\n",
        "\n",
        "Create a training and test set with our data."
      ],
      "metadata": {
        "id": "Dl8M998r9agV"
      }
    },
    {
      "cell_type": "code",
      "source": [
        "# Create the train/test split\n",
        "train_split = int(0.8*len(X))\n",
        "X_train, y_train = X[:train_split], y[:train_split]\n",
        "X_test, y_test = X[train_split:], y[train_split:]\n",
        "\n",
        "len(X_train), len(y_train), len(X_test), len(y_test)"
      ],
      "metadata": {
        "colab": {
          "base_uri": "https://localhost:8080/"
        },
        "id": "SsDUA3WD93-G",
        "outputId": "127b14be-c04d-49c1-8775-34729e423d95"
      },
      "execution_count": 5,
      "outputs": [
        {
          "output_type": "execute_result",
          "data": {
            "text/plain": [
              "(40, 40, 10, 10)"
            ]
          },
          "metadata": {},
          "execution_count": 5
        }
      ]
    },
    {
      "cell_type": "markdown",
      "source": [
        "Better visualize the data with Matplotlib"
      ],
      "metadata": {
        "id": "MKgjG76yBhGT"
      }
    },
    {
      "cell_type": "code",
      "source": [
        "X_train, y_train"
      ],
      "metadata": {
        "colab": {
          "base_uri": "https://localhost:8080/"
        },
        "id": "5AHzeTl6AoZV",
        "outputId": "5cc5a70c-f885-47ef-971b-0385ba902381"
      },
      "execution_count": 6,
      "outputs": [
        {
          "output_type": "execute_result",
          "data": {
            "text/plain": [
              "(tensor([[0.0000],\n",
              "         [0.0200],\n",
              "         [0.0400],\n",
              "         [0.0600],\n",
              "         [0.0800],\n",
              "         [0.1000],\n",
              "         [0.1200],\n",
              "         [0.1400],\n",
              "         [0.1600],\n",
              "         [0.1800],\n",
              "         [0.2000],\n",
              "         [0.2200],\n",
              "         [0.2400],\n",
              "         [0.2600],\n",
              "         [0.2800],\n",
              "         [0.3000],\n",
              "         [0.3200],\n",
              "         [0.3400],\n",
              "         [0.3600],\n",
              "         [0.3800],\n",
              "         [0.4000],\n",
              "         [0.4200],\n",
              "         [0.4400],\n",
              "         [0.4600],\n",
              "         [0.4800],\n",
              "         [0.5000],\n",
              "         [0.5200],\n",
              "         [0.5400],\n",
              "         [0.5600],\n",
              "         [0.5800],\n",
              "         [0.6000],\n",
              "         [0.6200],\n",
              "         [0.6400],\n",
              "         [0.6600],\n",
              "         [0.6800],\n",
              "         [0.7000],\n",
              "         [0.7200],\n",
              "         [0.7400],\n",
              "         [0.7600],\n",
              "         [0.7800]]), tensor([[0.3000],\n",
              "         [0.3140],\n",
              "         [0.3280],\n",
              "         [0.3420],\n",
              "         [0.3560],\n",
              "         [0.3700],\n",
              "         [0.3840],\n",
              "         [0.3980],\n",
              "         [0.4120],\n",
              "         [0.4260],\n",
              "         [0.4400],\n",
              "         [0.4540],\n",
              "         [0.4680],\n",
              "         [0.4820],\n",
              "         [0.4960],\n",
              "         [0.5100],\n",
              "         [0.5240],\n",
              "         [0.5380],\n",
              "         [0.5520],\n",
              "         [0.5660],\n",
              "         [0.5800],\n",
              "         [0.5940],\n",
              "         [0.6080],\n",
              "         [0.6220],\n",
              "         [0.6360],\n",
              "         [0.6500],\n",
              "         [0.6640],\n",
              "         [0.6780],\n",
              "         [0.6920],\n",
              "         [0.7060],\n",
              "         [0.7200],\n",
              "         [0.7340],\n",
              "         [0.7480],\n",
              "         [0.7620],\n",
              "         [0.7760],\n",
              "         [0.7900],\n",
              "         [0.8040],\n",
              "         [0.8180],\n",
              "         [0.8320],\n",
              "         [0.8460]]))"
            ]
          },
          "metadata": {},
          "execution_count": 6
        }
      ]
    },
    {
      "cell_type": "code",
      "source": [
        "def plot_predictions(train_data=X_train, \n",
        "                     train_labels=y_train, \n",
        "                     test_data=X_test, \n",
        "                     test_labels=y_test, \n",
        "                     predictions=None):\n",
        "  \"\"\"\n",
        "  Plots training data, test data and compares predictions.\n",
        "  \"\"\"\n",
        "  \n",
        "  plt.figure(figsize=(10, 7))\n",
        "\n",
        "  # Plot training data in blue\n",
        "  plt.scatter(train_data, train_labels, c=\"b\", s=4, label=\"Training data\")\n",
        "  \n",
        "  # Plot test data in green\n",
        "  plt.scatter(test_data, test_labels, c=\"g\", s=4, label=\"Testing data\")\n",
        "\n",
        "  if predictions is not None:\n",
        "    # Plot the predictions in red (predictions were made on the test data)\n",
        "    plt.scatter(test_data, predictions, c=\"r\", s=4, label=\"Predictions\")\n",
        "\n",
        "  # Show the legend\n",
        "  plt.legend(prop={\"size\": 14});"
      ],
      "metadata": {
        "id": "-6WscvfDBbHH"
      },
      "execution_count": 7,
      "outputs": []
    },
    {
      "cell_type": "code",
      "source": [
        "plot_predictions();"
      ],
      "metadata": {
        "colab": {
          "base_uri": "https://localhost:8080/",
          "height": 428
        },
        "id": "De_qWksVDOEd",
        "outputId": "8a62ec4e-238e-4bdc-d0c5-a53084ea2272"
      },
      "execution_count": 8,
      "outputs": [
        {
          "output_type": "display_data",
          "data": {
            "text/plain": [
              "<Figure size 720x504 with 1 Axes>"
            ],
            "image/png": "[encoded data removed]"
          },
          "metadata": {
            "needs_background": "light"
          }
        }
      ]
    },
    {
      "cell_type": "markdown",
      "source": [
        "# prsctce casper, finish gw, read, piano\n",
        "# Build first PyTorch model\n",
        "\n",
        "What the model does:\n",
        "* Start with random values (weight and bias)\n",
        "* Look at training data and adjust the random values to better represent (or get closer to) the ideal values (the weight and bias values used to create the data)\n",
        "\n",
        "It does this through two main algorithms:\n",
        "1. Gradient descent\n",
        "2. Backpropagation"
      ],
      "metadata": {
        "id": "-0l3UhN_Dl1W"
      }
    },
    {
      "cell_type": "code",
      "source": [
        "# Create a linear regression model class\n",
        "class LinearRegressionModel(nn.Module): # Almost everything in PyTorch inherits from nn.Module since it contains all of the building blocks for NNs\n",
        "  def __init__(self):\n",
        "    super().__init__()\n",
        "\n",
        "    # Initialize model parameters to be used in various computations (can be different layers from torch.nn, single parameters, hard-coded values, or functions)\n",
        "    self.weights = nn.Parameter(torch.randn(1, # Start with random weight and try to adjust it to the ideal weight\n",
        "                                            requires_grad=True, # requires_grad set to True for gradient descent to update the parameter\n",
        "                                            dtype=torch.float))\n",
        "    self.bias = nn.Parameter(torch.randn(1, # Start with random bias and try to adjust it to the ideal bias\n",
        "                                         requires_grad=True, # requires_grad set to True for gradient descent to update the parameter\n",
        "                                         dtype=torch.float))\n",
        "    \n",
        "  # Forward method to define the computation in the model\n",
        "\n",
        "  def forward(self, x: torch.Tensor) -> torch.Tensor: # x is the input data\n",
        "    return self.weights*x + self.bias # Linear regression formula\n",
        "\n",
        "# In gradient descent, PyTorch tracks the gradients of the specific parameter for use with torch.autograd and gradient descent\n",
        "# Any subclass of nn.Module needs to override forward() which defines the forward computation of the model"
      ],
      "metadata": {
        "id": "i_kdUJ1UBK41"
      },
      "execution_count": 9,
      "outputs": []
    },
    {
      "cell_type": "markdown",
      "source": [
        "### PyTorch model building essentials\n",
        "\n",
        "* torch.nn contains the building blocks for computational graphs (NNs)\n",
        "* torch.nn.Parameter - what parameters should our model try and learn, often a PyTorch layer from torch.nn will set these for us\n",
        "* torch.nn.Module - the base class for all NN modules, if you subclass it, you should overwrite forward()\n",
        "* torch.optim - optimizers in PyTorch help with gradient descent\n",
        "* def forward() - All nn.Module subclasses require you to overwrite forward() which defines what happens in the forward computation"
      ],
      "metadata": {
        "id": "-kcHmuauHff9"
      }
    },
    {
      "cell_type": "markdown",
      "source": [
        "### Checking the contents of the PyTorch model\n",
        "\n",
        "Check out the model's parameters or what is inside the model using `.parameters()`"
      ],
      "metadata": {
        "id": "RN2aU9ywKN8A"
      }
    },
    {
      "cell_type": "code",
      "source": [
        "# Create a random seed\n",
        "torch.manual_seed(42)\n",
        "\n",
        "# Create an instance of the model (this is the subclass of nn.Module)\n",
        "model_0 = LinearRegressionModel()\n",
        "\n",
        "# CHeck out the parameters\n",
        "list(model_0.parameters())"
      ],
      "metadata": {
        "colab": {
          "base_uri": "https://localhost:8080/"
        },
        "id": "4FurEIdSKiiX",
        "outputId": "960872c7-b628-4df6-b622-cc6ef471b20f"
      },
      "execution_count": 10,
      "outputs": [
        {
          "output_type": "execute_result",
          "data": {
            "text/plain": [
              "[Parameter containing:\n",
              " tensor([0.3367], requires_grad=True), Parameter containing:\n",
              " tensor([0.1288], requires_grad=True)]"
            ]
          },
          "metadata": {},
          "execution_count": 10
        }
      ]
    },
    {
      "cell_type": "code",
      "source": [
        "# List named parameters\n",
        "model_0.state_dict() # Dictionary of the parameters of the model (weights and bias)"
      ],
      "metadata": {
        "colab": {
          "base_uri": "https://localhost:8080/"
        },
        "id": "NeINJgg1K3Mx",
        "outputId": "adab3964-c78b-4b82-8f89-129cd182f876"
      },
      "execution_count": 11,
      "outputs": [
        {
          "output_type": "execute_result",
          "data": {
            "text/plain": [
              "OrderedDict([('weights', tensor([0.3367])), ('bias', tensor([0.1288]))])"
            ]
          },
          "metadata": {},
          "execution_count": 11
        }
      ]
    },
    {
      "cell_type": "markdown",
      "source": [
        "### Making predictions using `torch.inference_model()`\n",
        "\n",
        "To check the model's predictive power, see how well it predicts `y_test` based on `X_test`\n",
        "\n",
        "When we pass data through the model, it is going to run it through the forward() method."
      ],
      "metadata": {
        "id": "bnfdW1e-NG8M"
      }
    },
    {
      "cell_type": "code",
      "source": [
        "# Need to bring the [0.3367] and the [0.1288] as close as possible to the known values of 0.7 and 0.3 respectively\n",
        "weight, bias"
      ],
      "metadata": {
        "colab": {
          "base_uri": "https://localhost:8080/"
        },
        "id": "fD-Kn22yMKHz",
        "outputId": "5a07b373-111b-4af2-f746-0ec897568275"
      },
      "execution_count": 12,
      "outputs": [
        {
          "output_type": "execute_result",
          "data": {
            "text/plain": [
              "(0.7, 0.3)"
            ]
          },
          "metadata": {},
          "execution_count": 12
        }
      ]
    },
    {
      "cell_type": "code",
      "source": [
        "X_test, y_test # Take the X_test values as input and make the y_test values as output"
      ],
      "metadata": {
        "colab": {
          "base_uri": "https://localhost:8080/"
        },
        "id": "SxFtryJsOcdl",
        "outputId": "342a9e66-004a-48e0-dc81-90dc9aabd1e7"
      },
      "execution_count": 13,
      "outputs": [
        {
          "output_type": "execute_result",
          "data": {
            "text/plain": [
              "(tensor([[0.8000],\n",
              "         [0.8200],\n",
              "         [0.8400],\n",
              "         [0.8600],\n",
              "         [0.8800],\n",
              "         [0.9000],\n",
              "         [0.9200],\n",
              "         [0.9400],\n",
              "         [0.9600],\n",
              "         [0.9800]]), tensor([[0.8600],\n",
              "         [0.8740],\n",
              "         [0.8880],\n",
              "         [0.9020],\n",
              "         [0.9160],\n",
              "         [0.9300],\n",
              "         [0.9440],\n",
              "         [0.9580],\n",
              "         [0.9720],\n",
              "         [0.9860]]))"
            ]
          },
          "metadata": {},
          "execution_count": 13
        }
      ]
    },
    {
      "cell_type": "code",
      "source": [
        "y_preds = model_0(X_test)\n",
        "y_preds"
      ],
      "metadata": {
        "colab": {
          "base_uri": "https://localhost:8080/"
        },
        "id": "hQmnin3XRCLk",
        "outputId": "fd77eecb-81e0-4e34-d4a1-50f3a3d1543b"
      },
      "execution_count": 14,
      "outputs": [
        {
          "output_type": "execute_result",
          "data": {
            "text/plain": [
              "tensor([[0.3982],\n",
              "        [0.4049],\n",
              "        [0.4116],\n",
              "        [0.4184],\n",
              "        [0.4251],\n",
              "        [0.4318],\n",
              "        [0.4386],\n",
              "        [0.4453],\n",
              "        [0.4520],\n",
              "        [0.4588]], grad_fn=<AddBackward0>)"
            ]
          },
          "metadata": {},
          "execution_count": 14
        }
      ]
    },
    {
      "cell_type": "code",
      "source": [
        "# Make predictions with model\n",
        "with torch.inference_mode(): # inference_mode helps keep the programming running faster by not keeping track of the gradient\n",
        "  y_preds = model_0(X_test)\n",
        "\n",
        "# no_grad() is similar, but inference_mode() is preferred\n",
        "\"\"\"with torch.no_grad():\n",
        "  y_preds = model_0(X_test)\n",
        "\"\"\"\n",
        "\n",
        "y_preds"
      ],
      "metadata": {
        "colab": {
          "base_uri": "https://localhost:8080/"
        },
        "id": "CGg06Ot9Mbqn",
        "outputId": "2acb19b2-bb1a-4320-aeb5-c75a7e4523fb"
      },
      "execution_count": 15,
      "outputs": [
        {
          "output_type": "execute_result",
          "data": {
            "text/plain": [
              "tensor([[0.3982],\n",
              "        [0.4049],\n",
              "        [0.4116],\n",
              "        [0.4184],\n",
              "        [0.4251],\n",
              "        [0.4318],\n",
              "        [0.4386],\n",
              "        [0.4453],\n",
              "        [0.4520],\n",
              "        [0.4588]])"
            ]
          },
          "metadata": {},
          "execution_count": 15
        }
      ]
    },
    {
      "cell_type": "code",
      "source": [
        "y_test"
      ],
      "metadata": {
        "colab": {
          "base_uri": "https://localhost:8080/"
        },
        "id": "pCoSOU2-Pa7E",
        "outputId": "3ef16c53-2d81-447a-cd97-f7eb7e347f2c"
      },
      "execution_count": 16,
      "outputs": [
        {
          "output_type": "execute_result",
          "data": {
            "text/plain": [
              "tensor([[0.8600],\n",
              "        [0.8740],\n",
              "        [0.8880],\n",
              "        [0.9020],\n",
              "        [0.9160],\n",
              "        [0.9300],\n",
              "        [0.9440],\n",
              "        [0.9580],\n",
              "        [0.9720],\n",
              "        [0.9860]])"
            ]
          },
          "metadata": {},
          "execution_count": 16
        }
      ]
    },
    {
      "cell_type": "code",
      "source": [
        "plot_predictions(predictions=y_preds)"
      ],
      "metadata": {
        "colab": {
          "base_uri": "https://localhost:8080/",
          "height": 428
        },
        "id": "2SRmFnwyPcZr",
        "outputId": "33269faf-d058-4c6d-a391-f744781fe74e"
      },
      "execution_count": 17,
      "outputs": [
        {
          "output_type": "display_data",
          "data": {
            "text/plain": [
              "<Figure size 720x504 with 1 Axes>"
            ],
            "image/png": "[encoded data removed]"
          },
          "metadata": {
            "needs_background": "light"
          }
        }
      ]
    },
    {
      "cell_type": "markdown",
      "source": [
        "# 3. Train the model\n",
        "\n",
        "Training is for a model to move from some *unknown* parameters (which may be random) to some  *known* parameters\n",
        "\n",
        "From a poor representation of the data to a better representation of the data.\n",
        "\n",
        "To measure how poorly or wrong a model predition is, is to use a loss function.\n",
        "\n",
        "* Note loss function is also a cost function or criterion in different areas.\n",
        "\n",
        "\n",
        "Things we need to train:\n",
        "\n",
        "* **Loss function:** A function to measure how wrong the model's predictions are to the ideal outputs (the lower the better).\n",
        "\n",
        "* **Optimizer** Takes into account the loss of a model and adjusts the model's parameters (e.g. weight and bias) to improve the loss function.\n",
        "\n",
        "And specifically for PyTorch, we need:\n",
        "* A training loop\n",
        "* A testing loop"
      ],
      "metadata": {
        "id": "ZAnuF0puPhjQ"
      }
    },
    {
      "cell_type": "code",
      "source": [
        "list(model_0.parameters())"
      ],
      "metadata": {
        "colab": {
          "base_uri": "https://localhost:8080/"
        },
        "id": "UtgxpRyXSHzu",
        "outputId": "e466ebf9-c0a8-4b7b-ac7c-aee2210a82fb"
      },
      "execution_count": 18,
      "outputs": [
        {
          "output_type": "execute_result",
          "data": {
            "text/plain": [
              "[Parameter containing:\n",
              " tensor([0.3367], requires_grad=True), Parameter containing:\n",
              " tensor([0.1288], requires_grad=True)]"
            ]
          },
          "metadata": {},
          "execution_count": 18
        }
      ]
    },
    {
      "cell_type": "code",
      "source": [
        "# Show the model's parameters (parameters are values the model sets itself)\n",
        "model_0.state_dict()"
      ],
      "metadata": {
        "colab": {
          "base_uri": "https://localhost:8080/"
        },
        "id": "fMiOUIKhTUDl",
        "outputId": "3160a86d-c928-40b9-c16c-111203bb0b3e"
      },
      "execution_count": 19,
      "outputs": [
        {
          "output_type": "execute_result",
          "data": {
            "text/plain": [
              "OrderedDict([('weights', tensor([0.3367])), ('bias', tensor([0.1288]))])"
            ]
          },
          "metadata": {},
          "execution_count": 19
        }
      ]
    },
    {
      "cell_type": "code",
      "source": [
        "# Setup a loss function\n",
        "loss_fn = nn.L1Loss() # Tells us how wrong the model is\n",
        "\n",
        "# Setup an optimizer (Stochastic gradient descent)\n",
        "optimizer = torch.optim.SGD(params=model_0.parameters(), # Works with the parameters to minimize the loss function\n",
        "                            lr=0.01)  # Learning rate that changes the parameter by the LR value to find the direction it needs to go to minimize loss"
      ],
      "metadata": {
        "id": "zDjBs3rs7lpe"
      },
      "execution_count": 20,
      "outputs": []
    },
    {
      "cell_type": "markdown",
      "source": [
        "### Building a training loop and a testing loop in PyTorch\n",
        "\n",
        "A couple things we need in a training loop:\n",
        "0. Loop through the data (look through the data multiple times to make predictions based on random values)\n",
        "1. Forward pass (data moving through the model's `forward()` functions to make predictions on the data (also called forward propagtion)\n",
        "2. Calculate the loss (compare forward pass predictions to ground truth labels)\n",
        "3. Optimizer zero grad\n",
        "4. Loss backward - move backwards through the network to calculate the gradients of each of the parameters of our model with respect to the loss (**backpropagation**)\n",
        "5. Optimizer step - use the optimizer to adjust our model's parameters to improve the loss (**gradient descent**). The gradient is essentially the slope (dy/dx)."
      ],
      "metadata": {
        "id": "Qd2KXHtyBpBE"
      }
    },
    {
      "cell_type": "code",
      "source": [
        "torch.manual_seed(42)\n",
        "\n",
        "# An epoch is one loop through the data (hyperparameter because we set it ourselves)\n",
        "epochs = 200\n",
        "\n",
        "# Track different values\n",
        "epoch_count = []\n",
        "loss_values = []\n",
        "test_loss_values = []\n",
        "\n",
        "# 0. loop through the data\n",
        "for epoch in range(epochs):\n",
        "  # Set the model to training mode (default)\n",
        "  model_0.train() # Train mode in PyTorch sets all parameters that require gradients to require gradients\n",
        "\n",
        "  # 1. Forward pass\n",
        "  y_pred = model_0(X_train)\n",
        "\n",
        "  # 2. Calculate the MAE loss (distance between red dot and green dot)\n",
        "  loss = loss_fn(y_pred,y_train)\n",
        "  print(f\"Loss: {loss}\")\n",
        "\n",
        "  # 3. Optimizer zero grad\n",
        "  optimizer.zero_grad()\n",
        "\n",
        "  # 4. Perform backpropagation on the loss with respect to the parameters of the model\n",
        "  loss.backward()\n",
        "\n",
        "  # 5. Step the optimzer (perform gradient descent)\n",
        "  optimizer.step() # By default how the optimizer changes will accumulate through the loop, so we have to zero them above in step 3 for the next iteration of the loop\n",
        "\n",
        "  # Testing\n",
        "  model_0.eval() # Turns off gradient tracking no needed for evaluation/testing (dropout/batch norm layers)\n",
        "  with torch.inference_mode(): # turns off gradient tracking and other behind the scenes things can do with torch.no_grad(), but not as fast as inference mode\n",
        "    # 1. Do the forward pass\n",
        "    test_pred = model_0(X_test)\n",
        "\n",
        "    # 2. Calculate the loss\n",
        "    test_loss = loss_fn(test_pred,y_test)\n",
        "\n",
        "  # Print out what is happening\n",
        "  if epoch % 10 == 0:\n",
        "    epoch_count.append(epoch)\n",
        "    loss_values.append(loss)\n",
        "    test_loss_values.append(test_loss)\n",
        "    print(f\"Epoch: {epoch} | Test: {loss} | Test Loss: {test_loss}\")\n",
        "\n",
        "    print(model_0.state_dict())"
      ],
      "metadata": {
        "colab": {
          "base_uri": "https://localhost:8080/"
        },
        "id": "fpa8yGg1Erz0",
        "outputId": "f0397693-ab26-4252-a685-2353f5aa7413"
      },
      "execution_count": 21,
      "outputs": [
        {
          "output_type": "stream",
          "name": "stdout",
          "text": [
            "Loss: 0.31288138031959534\n",
            "Epoch: 0 | Test: 0.31288138031959534 | Test Loss: 0.48106518387794495\n",
            "OrderedDict([('weights', tensor([0.3406])), ('bias', tensor([0.1388]))])\n",
            "Loss: 0.3013603389263153\n",
            "Loss: 0.28983935713768005\n",
            "Loss: 0.2783183455467224\n",
            "Loss: 0.26679736375808716\n",
            "Loss: 0.2552763521671295\n",
            "Loss: 0.24375534057617188\n",
            "Loss: 0.23223432898521423\n",
            "Loss: 0.22071333229541779\n",
            "Loss: 0.20919232070446014\n",
            "Loss: 0.1976713240146637\n",
            "Epoch: 10 | Test: 0.1976713240146637 | Test Loss: 0.3463551998138428\n",
            "OrderedDict([('weights', tensor([0.3796])), ('bias', tensor([0.2388]))])\n",
            "Loss: 0.18615034222602844\n",
            "Loss: 0.1746293306350708\n",
            "Loss: 0.16310831904411316\n",
            "Loss: 0.1515873372554779\n",
            "Loss: 0.14006635546684265\n",
            "Loss: 0.1285453587770462\n",
            "Loss: 0.11702437698841095\n",
            "Loss: 0.1060912236571312\n",
            "Loss: 0.09681284427642822\n",
            "Loss: 0.08908725529909134\n",
            "Epoch: 20 | Test: 0.08908725529909134 | Test Loss: 0.21729660034179688\n",
            "OrderedDict([('weights', tensor([0.4184])), ('bias', tensor([0.3333]))])\n",
            "Loss: 0.08227583020925522\n",
            "Loss: 0.07638873159885406\n",
            "Loss: 0.07160007208585739\n",
            "Loss: 0.06747635453939438\n",
            "Loss: 0.06395438313484192\n",
            "Loss: 0.06097004935145378\n",
            "Loss: 0.05845819041132927\n",
            "Loss: 0.05635259300470352\n",
            "Loss: 0.0545857772231102\n",
            "Loss: 0.053148526698350906\n",
            "Epoch: 30 | Test: 0.053148526698350906 | Test Loss: 0.14464017748832703\n",
            "OrderedDict([('weights', tensor([0.4512])), ('bias', tensor([0.3768]))])\n",
            "Loss: 0.05181945487856865\n",
            "Loss: 0.05069301277399063\n",
            "Loss: 0.0498228520154953\n",
            "Loss: 0.04895269125699997\n",
            "Loss: 0.04819351062178612\n",
            "Loss: 0.047531817108392715\n",
            "Loss: 0.04692792519927025\n",
            "Loss: 0.04642331600189209\n",
            "Loss: 0.04591871052980423\n",
            "Loss: 0.04543796554207802\n",
            "Epoch: 40 | Test: 0.04543796554207802 | Test Loss: 0.11360953003168106\n",
            "OrderedDict([('weights', tensor([0.4748])), ('bias', tensor([0.3868]))])\n",
            "Loss: 0.04503796249628067\n",
            "Loss: 0.04463795945048332\n",
            "Loss: 0.04423796385526657\n",
            "Loss: 0.04383796453475952\n",
            "Loss: 0.04343796148896217\n",
            "Loss: 0.043074630200862885\n",
            "Loss: 0.04272563382983208\n",
            "Loss: 0.04237663000822067\n",
            "Loss: 0.04202762991189957\n",
            "Loss: 0.04167863354086876\n",
            "Epoch: 50 | Test: 0.04167863354086876 | Test Loss: 0.09919948130846024\n",
            "OrderedDict([('weights', tensor([0.4938])), ('bias', tensor([0.3843]))])\n",
            "Loss: 0.04132963344454765\n",
            "Loss: 0.04098063334822655\n",
            "Loss: 0.04063162952661514\n",
            "Loss: 0.040282636880874634\n",
            "Loss: 0.039933640509843826\n",
            "Loss: 0.03958464413881302\n",
            "Loss: 0.03923564404249191\n",
            "Loss: 0.03888664394617081\n",
            "Loss: 0.0385376438498497\n",
            "Loss: 0.03818932920694351\n",
            "Epoch: 60 | Test: 0.03818932920694351 | Test Loss: 0.08886633068323135\n",
            "OrderedDict([('weights', tensor([0.5116])), ('bias', tensor([0.3788]))])\n",
            "Loss: 0.03785243630409241\n",
            "Loss: 0.0375034399330616\n",
            "Loss: 0.037164121866226196\n",
            "Loss: 0.03681822493672371\n",
            "Loss: 0.03647511452436447\n",
            "Loss: 0.03613303601741791\n",
            "Loss: 0.03578609973192215\n",
            "Loss: 0.03544783592224121\n",
            "Loss: 0.035098835825920105\n",
            "Loss: 0.03476089984178543\n",
            "Epoch: 70 | Test: 0.03476089984178543 | Test Loss: 0.0805937647819519\n",
            "OrderedDict([('weights', tensor([0.5288])), ('bias', tensor([0.3718]))])\n",
            "Loss: 0.03441363573074341\n",
            "Loss: 0.03407188132405281\n",
            "Loss: 0.03372843936085701\n",
            "Loss: 0.03338287025690079\n",
            "Loss: 0.033043231815099716\n",
            "Loss: 0.03269423171877861\n",
            "Loss: 0.032357655465602875\n",
            "Loss: 0.03200903534889221\n",
            "Loss: 0.03166864812374115\n",
            "Loss: 0.03132382780313492\n",
            "Epoch: 80 | Test: 0.03132382780313492 | Test Loss: 0.07232122868299484\n",
            "OrderedDict([('weights', tensor([0.5459])), ('bias', tensor([0.3648]))])\n",
            "Loss: 0.030979642644524574\n",
            "Loss: 0.030638623982667923\n",
            "Loss: 0.0302906334400177\n",
            "Loss: 0.029953425750136375\n",
            "Loss: 0.02960442565381527\n",
            "Loss: 0.029265418648719788\n",
            "Loss: 0.028919223695993423\n",
            "Loss: 0.028576409444212914\n",
            "Loss: 0.028234025463461876\n",
            "Loss: 0.02788739837706089\n",
            "Epoch: 90 | Test: 0.02788739837706089 | Test Loss: 0.06473556160926819\n",
            "OrderedDict([('weights', tensor([0.5629])), ('bias', tensor([0.3573]))])\n",
            "Loss: 0.02754882536828518\n",
            "Loss: 0.027199819684028625\n",
            "Loss: 0.026862185448408127\n",
            "Loss: 0.02651461586356163\n",
            "Loss: 0.026173178106546402\n",
            "Loss: 0.025829419493675232\n",
            "Loss: 0.02548416517674923\n",
            "Loss: 0.025144213810563087\n",
            "Loss: 0.02479521557688713\n",
            "Loss: 0.024458957836031914\n",
            "Epoch: 100 | Test: 0.024458957836031914 | Test Loss: 0.05646304413676262\n",
            "OrderedDict([('weights', tensor([0.5800])), ('bias', tensor([0.3503]))])\n",
            "Loss: 0.024110013619065285\n",
            "Loss: 0.02376994863152504\n",
            "Loss: 0.02342480979859829\n",
            "Loss: 0.023080935701727867\n",
            "Loss: 0.022739607840776443\n",
            "Loss: 0.022391926497220993\n",
            "Loss: 0.022054409608244896\n",
            "Loss: 0.02170540764927864\n",
            "Loss: 0.021366719156503677\n",
            "Loss: 0.021020207554101944\n",
            "Epoch: 110 | Test: 0.021020207554101944 | Test Loss: 0.04819049686193466\n",
            "OrderedDict([('weights', tensor([0.5972])), ('bias', tensor([0.3433]))])\n",
            "Loss: 0.020677709951996803\n",
            "Loss: 0.02033500373363495\n",
            "Loss: 0.01998869702219963\n",
            "Loss: 0.019649803638458252\n",
            "Loss: 0.019300809130072594\n",
            "Loss: 0.018963487818837166\n",
            "Loss: 0.01861560344696045\n",
            "Loss: 0.018274478614330292\n",
            "Loss: 0.017930403351783752\n",
            "Loss: 0.01758546568453312\n",
            "Epoch: 120 | Test: 0.01758546568453312 | Test Loss: 0.04060482233762741\n",
            "OrderedDict([('weights', tensor([0.6141])), ('bias', tensor([0.3358]))])\n",
            "Loss: 0.017245199531316757\n",
            "Loss: 0.016896454617381096\n",
            "Loss: 0.01656000316143036\n",
            "Loss: 0.016210997477173805\n",
            "Loss: 0.01587124727666378\n",
            "Loss: 0.015525798313319683\n",
            "Loss: 0.015182236209511757\n",
            "Loss: 0.014840595424175262\n",
            "Loss: 0.01449323259294033\n",
            "Loss: 0.014155393466353416\n",
            "Epoch: 130 | Test: 0.014155393466353416 | Test Loss: 0.03233227878808975\n",
            "OrderedDict([('weights', tensor([0.6313])), ('bias', tensor([0.3288]))])\n",
            "Loss: 0.013806397095322609\n",
            "Loss: 0.013468016870319843\n",
            "Loss: 0.013121193274855614\n",
            "Loss: 0.01277900766581297\n",
            "Loss: 0.012435992248356342\n",
            "Loss: 0.01208999752998352\n",
            "Loss: 0.011750795878469944\n",
            "Loss: 0.011401787400245667\n",
            "Loss: 0.011064787395298481\n",
            "Loss: 0.010716589167714119\n",
            "Epoch: 140 | Test: 0.010716589167714119 | Test Loss: 0.024059748277068138\n",
            "OrderedDict([('weights', tensor([0.6485])), ('bias', tensor([0.3218]))])\n",
            "Loss: 0.010375778190791607\n",
            "Loss: 0.010031387209892273\n",
            "Loss: 0.009686763398349285\n",
            "Loss: 0.009346187114715576\n",
            "Loss: 0.008997755125164986\n",
            "Loss: 0.008660981431603432\n",
            "Loss: 0.008311985060572624\n",
            "Loss: 0.007972544990479946\n",
            "Loss: 0.007626785431057215\n",
            "Loss: 0.0072835334576666355\n",
            "Epoch: 150 | Test: 0.0072835334576666355 | Test Loss: 0.016474086791276932\n",
            "OrderedDict([('weights', tensor([0.6654])), ('bias', tensor([0.3143]))])\n",
            "Loss: 0.006941580679267645\n",
            "Loss: 0.006594526115804911\n",
            "Loss: 0.006256377790123224\n",
            "Loss: 0.005907376762479544\n",
            "Loss: 0.005569315515458584\n",
            "Loss: 0.005222178064286709\n",
            "Loss: 0.004880306776612997\n",
            "Loss: 0.004536976106464863\n",
            "Loss: 0.00419129803776741\n",
            "Loss: 0.0038517764769494534\n",
            "Epoch: 160 | Test: 0.0038517764769494534 | Test Loss: 0.008201557211577892\n",
            "OrderedDict([('weights', tensor([0.6826])), ('bias', tensor([0.3073]))])\n",
            "Loss: 0.0035027749836444855\n",
            "Loss: 0.0031660839449614286\n",
            "Loss: 0.002817571861669421\n",
            "Loss: 0.0024770735763013363\n",
            "Loss: 0.0021323717664927244\n",
            "Loss: 0.0017880648374557495\n",
            "Loss: 0.0014518328243866563\n",
            "Loss: 0.0011887758737429976\n",
            "Loss: 0.0025885067880153656\n",
            "Loss: 0.008932482451200485\n",
            "Epoch: 170 | Test: 0.008932482451200485 | Test Loss: 0.005023092031478882\n",
            "OrderedDict([('weights', tensor([0.6951])), ('bias', tensor([0.2993]))])\n",
            "Loss: 0.0025885067880153656\n",
            "Loss: 0.008932482451200485\n",
            "Loss: 0.0025885067880153656\n",
            "Loss: 0.008932482451200485\n",
            "Loss: 0.0025885067880153656\n",
            "Loss: 0.008932482451200485\n",
            "Loss: 0.0025885067880153656\n",
            "Loss: 0.008932482451200485\n",
            "Loss: 0.0025885067880153656\n",
            "Loss: 0.008932482451200485\n",
            "Epoch: 180 | Test: 0.008932482451200485 | Test Loss: 0.005023092031478882\n",
            "OrderedDict([('weights', tensor([0.6951])), ('bias', tensor([0.2993]))])\n",
            "Loss: 0.0025885067880153656\n",
            "Loss: 0.008932482451200485\n",
            "Loss: 0.0025885067880153656\n",
            "Loss: 0.008932482451200485\n",
            "Loss: 0.0025885067880153656\n",
            "Loss: 0.008932482451200485\n",
            "Loss: 0.0025885067880153656\n",
            "Loss: 0.008932482451200485\n",
            "Loss: 0.0025885067880153656\n",
            "Loss: 0.008932482451200485\n",
            "Epoch: 190 | Test: 0.008932482451200485 | Test Loss: 0.005023092031478882\n",
            "OrderedDict([('weights', tensor([0.6951])), ('bias', tensor([0.2993]))])\n",
            "Loss: 0.0025885067880153656\n",
            "Loss: 0.008932482451200485\n",
            "Loss: 0.0025885067880153656\n",
            "Loss: 0.008932482451200485\n",
            "Loss: 0.0025885067880153656\n",
            "Loss: 0.008932482451200485\n",
            "Loss: 0.0025885067880153656\n",
            "Loss: 0.008932482451200485\n",
            "Loss: 0.0025885067880153656\n"
          ]
        }
      ]
    },
    {
      "cell_type": "code",
      "source": [
        "model_0.state_dict()"
      ],
      "metadata": {
        "colab": {
          "base_uri": "https://localhost:8080/"
        },
        "id": "CdQzxJhtjfGi",
        "outputId": "255a84ad-668a-470c-e0f7-baa97d296940"
      },
      "execution_count": 22,
      "outputs": [
        {
          "output_type": "execute_result",
          "data": {
            "text/plain": [
              "OrderedDict([('weights', tensor([0.6990])), ('bias', tensor([0.3093]))])"
            ]
          },
          "metadata": {},
          "execution_count": 22
        }
      ]
    },
    {
      "cell_type": "code",
      "source": [
        "# Plot the loss curves\n",
        "import numpy as np\n",
        "plt.plot(epoch_count,np.array(torch.tensor(loss_values).numpy()),label=\"Train Loss\")\n",
        "plt.plot(epoch_count,test_loss_values,label=\"Test Loss\")\n",
        "plt.title(\"Training and Test Loss Curves\")\n",
        "plt.ylabel(\"Loss\")\n",
        "plt.xlabel(\"Epochs\")\n",
        "plt.legend();"
      ],
      "metadata": {
        "colab": {
          "base_uri": "https://localhost:8080/",
          "height": 295
        },
        "id": "SxMnwFQzgdIC",
        "outputId": "182604c7-65b5-468b-98aa-2d474a75b33a"
      },
      "execution_count": 23,
      "outputs": [
        {
          "output_type": "display_data",
          "data": {
            "text/plain": [
              "<Figure size 432x288 with 1 Axes>"
            ],
            "image/png": "[encoded data removed]"
          },
          "metadata": {
            "needs_background": "light"
          }
        }
      ]
    },
    {
      "cell_type": "code",
      "source": [
        "with torch.inference_mode():\n",
        "  y_preds_new = model_0(X_test)"
      ],
      "metadata": {
        "id": "A19-goH8ji97"
      },
      "execution_count": 24,
      "outputs": []
    },
    {
      "cell_type": "code",
      "source": [
        "model_0.state_dict()"
      ],
      "metadata": {
        "colab": {
          "base_uri": "https://localhost:8080/"
        },
        "id": "tdbMTv2njkda",
        "outputId": "19e5f8e2-6016-4217-e9c7-4efa54302dac"
      },
      "execution_count": 25,
      "outputs": [
        {
          "output_type": "execute_result",
          "data": {
            "text/plain": [
              "OrderedDict([('weights', tensor([0.6990])), ('bias', tensor([0.3093]))])"
            ]
          },
          "metadata": {},
          "execution_count": 25
        }
      ]
    },
    {
      "cell_type": "code",
      "source": [
        "plot_predictions(predictions=y_preds);"
      ],
      "metadata": {
        "colab": {
          "base_uri": "https://localhost:8080/",
          "height": 428
        },
        "id": "Pwsk3gCYj3PF",
        "outputId": "9228f2f2-a33e-4e78-d5aa-35715c72ec37"
      },
      "execution_count": 26,
      "outputs": [
        {
          "output_type": "display_data",
          "data": {
            "text/plain": [
              "<Figure size 720x504 with 1 Axes>"
            ],
            "image/png": "[encoded data removed]"
          },
          "metadata": {
            "needs_background": "light"
          }
        }
      ]
    },
    {
      "cell_type": "code",
      "source": [
        "plot_predictions(predictions=y_preds_new);"
      ],
      "metadata": {
        "colab": {
          "base_uri": "https://localhost:8080/",
          "height": 428
        },
        "id": "Xx0QqiYBlObo",
        "outputId": "c66da0a6-e102-47bc-b3a4-7b1c0f4087f3"
      },
      "execution_count": 27,
      "outputs": [
        {
          "output_type": "display_data",
          "data": {
            "text/plain": [
              "<Figure size 720x504 with 1 Axes>"
            ],
            "image/png": "[encoded data removed]"
          },
          "metadata": {
            "needs_background": "light"
          }
        }
      ]
    },
    {
      "cell_type": "markdown",
      "source": [
        "### Saving a model in PyTorch\n",
        "\n",
        "Three main methods for saving/loading models in PyTorch\n",
        "\n",
        "1. `torch.save()` - allows you to save a PyTorch object in Python's pickle format\n",
        "2. `torch.load()` - allows you to load a PyTorch project\n",
        "3. `torch.nn.Module.load_state_dict()` - allows you to load a model's saved state dictionary"
      ],
      "metadata": {
        "id": "ZYyHY3Uulpg8"
      }
    },
    {
      "cell_type": "code",
      "source": [
        "# Save the model\n",
        "from pathlib import Path\n",
        "\n",
        "# 1. Create models directory\n",
        "MODEL_PATH = Path(\"models\")\n",
        "MODEL_PATH.mkdir(parents=True, exist_ok=True)\n",
        "\n",
        "# 2. Create a model save path\n",
        "MODEL_NAME = \"01_python_workflow_model_0.pth\"\n",
        "MODEL_SAVE_PATH = MODEL_PATH / MODEL_NAME\n",
        "MODEL_SAVE_PATH\n",
        "\n",
        "# 3. Save the model state dict\n",
        "print(f\"Saving the model to: {MODEL_SAVE_PATH}\")"
      ],
      "metadata": {
        "colab": {
          "base_uri": "https://localhost:8080/"
        },
        "id": "MoaYTHc4j4N3",
        "outputId": "bcd232af-9f65-4896-d75b-84d7f9419b4c"
      },
      "execution_count": 28,
      "outputs": [
        {
          "output_type": "stream",
          "name": "stdout",
          "text": [
            "Saving the model to: models/01_python_workflow_model_0.pth\n"
          ]
        }
      ]
    },
    {
      "cell_type": "code",
      "source": [],
      "metadata": {
        "id": "7ZoLJQxumIDc"
      },
      "execution_count": 28,
      "outputs": []
    }
  ]
}