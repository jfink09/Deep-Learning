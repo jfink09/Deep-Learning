{
  "nbformat": 4,
  "nbformat_minor": 0,
  "metadata": {
    "colab": {
      "name": "Confusion_Matrix_For_Artificial_Neural_Network.ipynb",
      "provenance": [],
      "authorship_tag": "ABX9TyMFyR3Pj2gsdT1aj/GdBbWt",
      "include_colab_link": true
    },
    "kernelspec": {
      "name": "python3",
      "display_name": "Python 3"
    },
    "language_info": {
      "name": "python"
    }
  },
  "cells": [
    {
      "cell_type": "markdown",
      "metadata": {
        "id": "view-in-github",
        "colab_type": "text"
      },
      "source": [
        "<a href=\"https://colab.research.google.com/github/jfink09/Deep-Learning/blob/main/Confusion_Matrix_For_Artificial_Neural_Network.ipynb\" target=\"_parent\"><img src=\"https://colab.research.google.com/assets/colab-badge.svg\" alt=\"Open In Colab\"/></a>"
      ]
    },
    {
      "cell_type": "code",
      "execution_count": 117,
      "metadata": {
        "id": "mShGGrd4Tle3"
      },
      "outputs": [],
      "source": [
        "# Import libraries\n",
        "\n",
        "# Libraries for data processing\n",
        "import numpy as np\n",
        "from random import randint\n",
        "from sklearn.utils import shuffle\n",
        "from sklearn.preprocessing import MinMaxScaler\n",
        "\n",
        "# Libraries for the deep learning model\n",
        "import tensorflow as tf\n",
        "from tensorflow import keras\n",
        "from tensorflow.keras.models import Sequential\n",
        "from tensorflow.keras.layers import Activation, Dense\n",
        "from tensorflow.keras.optimizers import Adam\n",
        "from tensorflow.keras.metrics import categorical_crossentropy"
      ]
    },
    {
      "cell_type": "code",
      "source": [
        "# Check if the code is running on a GPU\n",
        "physical_devices = tf.config.experimental.list_physical_devices(\"GPU\")\n",
        "print(\"Number of GPUs available: \"+str(len(physical_devices)))"
      ],
      "metadata": {
        "colab": {
          "base_uri": "https://localhost:8080/"
        },
        "id": "qF-F2HvSUKZw",
        "outputId": "a55eb4f9-fcf7-4e49-bf58-2dac236d91bb"
      },
      "execution_count": 118,
      "outputs": [
        {
          "output_type": "stream",
          "name": "stdout",
          "text": [
            "Number of GPUs available: 0\n"
          ]
        }
      ]
    },
    {
      "cell_type": "code",
      "source": [
        "from os import truncate\n",
        "# Create an empty array for the training samples and labels\n",
        "train_samples = []\n",
        "train_labels = []\n",
        "\n",
        "# Experiment\n",
        "# Drug tested on 2100 people ages 13-100.\n",
        "# 50% over 65 and 50% under 65.\n",
        "# 95% 65+ had side effects and 95% below 65 did not\n",
        "\n",
        "for i in range(50):\n",
        "    # The 5% 13-64 who experienced side effects\n",
        "    random_younger = randint(13,64)             # Generate random number between 13, 64\n",
        "    train_samples.append(random_younger)        # Append the random number to the train_samples array\n",
        "    train_labels.append(1)                      # Append a 1 to trained_labels array to indicate the patient had side effects\n",
        "\n",
        "    # The 5% 65-100 who did not have side effects\n",
        "    random_older = randint(65,100)              # Generate random number between 65, 100\n",
        "    train_samples.append(random_older)          # Append the random number to the train_samples array\n",
        "    train_labels.append(0)                      # Append a 0 to trained_labels array to indicate they did not have side effects\n",
        "\n",
        "for i in range(1000):\n",
        "    # The 95% younger who did not have side effects\n",
        "    random_younger = randint(13, 64)            # Generate random number between 13, 64\n",
        "    train_samples.append(random_younger)        # Append the random number to the train_samples array\n",
        "    train_labels.append(0)                      # Append a 0 to trained_labels array to indicate they did not have side effects\n",
        "\n",
        "    # The 95% older who did have side effects\n",
        "    random_older = randint(65, 100)             # Generate random number between 65, 100\n",
        "    train_samples.append(random_older)          # Append the random number to the train_samples array\n",
        "    train_labels.append(1)                      # Append a 1 to trained_labels array to indicate they did have side effects\n",
        "\n",
        "# Print the values added to the trained_samples array\n",
        "#train_samples = train_samples[0:10]\n",
        "for i in train_samples:\n",
        "   print(i)\n",
        "\n",
        "# Print the values added to the trained_labels array (all 0 and 1)\n",
        "#train_labels = train_labels[0:10]\n",
        "for i in train_labels:\n",
        "    print(i)\n",
        "\n",
        "# Convert arrays into numpy arrays\n",
        "train_samples = np.array(train_samples)\n",
        "train_labels = np.array(train_labels)\n",
        "\n",
        "train_samples, train_labels = shuffle(train_samples,train_labels)         # Randomly shuffle the values in the arrays\n",
        "\n",
        "scaler = MinMaxScaler(feature_range=(0,1))                                # Rescale our range from 13-100 to 0-1 and fit_transform does not do 1D data so needed to reshape it\n",
        "scaled_train_samples = scaler.fit_transform(train_samples.reshape(-1,1))  # Fit to data by computing the min and max values and transform it \n",
        "\n",
        "#scaled_train_samples = scaled_train_samples[0:10]\n",
        "for i in scaled_train_samples:\n",
        "    print(i)"
      ],
      "metadata": {
        "id": "Yvvx72JDZlpv"
      },
      "execution_count": null,
      "outputs": []
    },
    {
      "cell_type": "code",
      "source": [
        "# Build the artificial neural network model\n",
        "model = Sequential([\n",
        "        Dense(units=16,activation=\"relu\",input_shape=(1,)),\n",
        "        Dense(units=32,activation=\"relu\"),\n",
        "        Dense(units=2,activation=\"softmax\")\n",
        "])"
      ],
      "metadata": {
        "id": "iG7VE1JbVJI6"
      },
      "execution_count": 130,
      "outputs": []
    },
    {
      "cell_type": "code",
      "source": [
        "# Show a summary of the model we built\n",
        "model.summary()"
      ],
      "metadata": {
        "colab": {
          "base_uri": "https://localhost:8080/"
        },
        "id": "iZ-FA_TyWJVp",
        "outputId": "ed75c2cb-c2b0-433b-8e9d-f38fff3dab41"
      },
      "execution_count": 131,
      "outputs": [
        {
          "output_type": "stream",
          "name": "stdout",
          "text": [
            "Model: \"sequential_10\"\n",
            "_________________________________________________________________\n",
            " Layer (type)                Output Shape              Param #   \n",
            "=================================================================\n",
            " dense_18 (Dense)            (None, 16)                32        \n",
            "                                                                 \n",
            " dense_19 (Dense)            (None, 32)                544       \n",
            "                                                                 \n",
            " dense_20 (Dense)            (None, 2)                 66        \n",
            "                                                                 \n",
            "=================================================================\n",
            "Total params: 642\n",
            "Trainable params: 642\n",
            "Non-trainable params: 0\n",
            "_________________________________________________________________\n"
          ]
        }
      ]
    },
    {
      "cell_type": "code",
      "source": [
        "# Compile the artificial neural network\n",
        "model.compile(optimizer=Adam(learning_rate=1e-4),\n",
        "              loss=\"sparse_categorical_crossentropy\",\n",
        "              metrics=[\"accuracy\"])"
      ],
      "metadata": {
        "id": "4lXHDDnBX3b_"
      },
      "execution_count": 132,
      "outputs": []
    },
    {
      "cell_type": "code",
      "source": [
        "# Train the model using .fit()\n",
        "# Loss decreases with each epoch and run and accuracy increases with each epoch and run\n",
        "model.fit(x=scaled_train_samples,y=train_labels,validation_split=0.1,batch_size=10,epochs=30,shuffle=True,verbose=2)"
      ],
      "metadata": {
        "colab": {
          "base_uri": "https://localhost:8080/"
        },
        "id": "TRk5UU3ZYkBm",
        "outputId": "2d982c30-cbf9-49c7-d5d8-4e9e005e2e6a"
      },
      "execution_count": 133,
      "outputs": [
        {
          "output_type": "stream",
          "name": "stdout",
          "text": [
            "Epoch 1/30\n",
            "189/189 - 1s - loss: 0.7563 - accuracy: 0.4302 - val_loss: 0.7325 - val_accuracy: 0.3524 - 1s/epoch - 7ms/step\n",
            "Epoch 2/30\n",
            "189/189 - 1s - loss: 0.7101 - accuracy: 0.2984 - val_loss: 0.6901 - val_accuracy: 0.5429 - 665ms/epoch - 4ms/step\n",
            "Epoch 3/30\n",
            "189/189 - 1s - loss: 0.6787 - accuracy: 0.4952 - val_loss: 0.6596 - val_accuracy: 0.5429 - 790ms/epoch - 4ms/step\n",
            "Epoch 4/30\n",
            "189/189 - 0s - loss: 0.6541 - accuracy: 0.5243 - val_loss: 0.6363 - val_accuracy: 0.5952 - 401ms/epoch - 2ms/step\n",
            "Epoch 5/30\n",
            "189/189 - 0s - loss: 0.6315 - accuracy: 0.6217 - val_loss: 0.6130 - val_accuracy: 0.6571 - 334ms/epoch - 2ms/step\n",
            "Epoch 6/30\n",
            "189/189 - 0s - loss: 0.6099 - accuracy: 0.6698 - val_loss: 0.5917 - val_accuracy: 0.7048 - 357ms/epoch - 2ms/step\n",
            "Epoch 7/30\n",
            "189/189 - 0s - loss: 0.5859 - accuracy: 0.7169 - val_loss: 0.5676 - val_accuracy: 0.7190 - 356ms/epoch - 2ms/step\n",
            "Epoch 8/30\n",
            "189/189 - 0s - loss: 0.5626 - accuracy: 0.7450 - val_loss: 0.5457 - val_accuracy: 0.7429 - 344ms/epoch - 2ms/step\n",
            "Epoch 9/30\n",
            "189/189 - 0s - loss: 0.5401 - accuracy: 0.7667 - val_loss: 0.5246 - val_accuracy: 0.7810 - 363ms/epoch - 2ms/step\n",
            "Epoch 10/30\n",
            "189/189 - 0s - loss: 0.5171 - accuracy: 0.7905 - val_loss: 0.5030 - val_accuracy: 0.7905 - 351ms/epoch - 2ms/step\n",
            "Epoch 11/30\n",
            "189/189 - 0s - loss: 0.4937 - accuracy: 0.8185 - val_loss: 0.4816 - val_accuracy: 0.8143 - 389ms/epoch - 2ms/step\n",
            "Epoch 12/30\n",
            "189/189 - 0s - loss: 0.4713 - accuracy: 0.8349 - val_loss: 0.4608 - val_accuracy: 0.8333 - 370ms/epoch - 2ms/step\n",
            "Epoch 13/30\n",
            "189/189 - 0s - loss: 0.4498 - accuracy: 0.8508 - val_loss: 0.4423 - val_accuracy: 0.8381 - 352ms/epoch - 2ms/step\n",
            "Epoch 14/30\n",
            "189/189 - 0s - loss: 0.4299 - accuracy: 0.8640 - val_loss: 0.4248 - val_accuracy: 0.8619 - 332ms/epoch - 2ms/step\n",
            "Epoch 15/30\n",
            "189/189 - 0s - loss: 0.4111 - accuracy: 0.8725 - val_loss: 0.4082 - val_accuracy: 0.8714 - 340ms/epoch - 2ms/step\n",
            "Epoch 16/30\n",
            "189/189 - 0s - loss: 0.3938 - accuracy: 0.8825 - val_loss: 0.3931 - val_accuracy: 0.8905 - 352ms/epoch - 2ms/step\n",
            "Epoch 17/30\n",
            "189/189 - 0s - loss: 0.3782 - accuracy: 0.8873 - val_loss: 0.3796 - val_accuracy: 0.8905 - 350ms/epoch - 2ms/step\n",
            "Epoch 18/30\n",
            "189/189 - 0s - loss: 0.3642 - accuracy: 0.8952 - val_loss: 0.3675 - val_accuracy: 0.9000 - 344ms/epoch - 2ms/step\n",
            "Epoch 19/30\n",
            "189/189 - 0s - loss: 0.3518 - accuracy: 0.9016 - val_loss: 0.3565 - val_accuracy: 0.9000 - 348ms/epoch - 2ms/step\n",
            "Epoch 20/30\n",
            "189/189 - 0s - loss: 0.3409 - accuracy: 0.9063 - val_loss: 0.3472 - val_accuracy: 0.9000 - 354ms/epoch - 2ms/step\n",
            "Epoch 21/30\n",
            "189/189 - 0s - loss: 0.3309 - accuracy: 0.9127 - val_loss: 0.3378 - val_accuracy: 0.9000 - 368ms/epoch - 2ms/step\n",
            "Epoch 22/30\n",
            "189/189 - 0s - loss: 0.3218 - accuracy: 0.9153 - val_loss: 0.3301 - val_accuracy: 0.9000 - 355ms/epoch - 2ms/step\n",
            "Epoch 23/30\n",
            "189/189 - 0s - loss: 0.3140 - accuracy: 0.9148 - val_loss: 0.3238 - val_accuracy: 0.9286 - 313ms/epoch - 2ms/step\n",
            "Epoch 24/30\n",
            "189/189 - 0s - loss: 0.3074 - accuracy: 0.9217 - val_loss: 0.3182 - val_accuracy: 0.9286 - 364ms/epoch - 2ms/step\n",
            "Epoch 25/30\n",
            "189/189 - 0s - loss: 0.3015 - accuracy: 0.9270 - val_loss: 0.3127 - val_accuracy: 0.9286 - 360ms/epoch - 2ms/step\n",
            "Epoch 26/30\n",
            "189/189 - 0s - loss: 0.2965 - accuracy: 0.9217 - val_loss: 0.3088 - val_accuracy: 0.9333 - 319ms/epoch - 2ms/step\n",
            "Epoch 27/30\n",
            "189/189 - 0s - loss: 0.2922 - accuracy: 0.9265 - val_loss: 0.3054 - val_accuracy: 0.9333 - 321ms/epoch - 2ms/step\n",
            "Epoch 28/30\n",
            "189/189 - 0s - loss: 0.2884 - accuracy: 0.9339 - val_loss: 0.3015 - val_accuracy: 0.9333 - 359ms/epoch - 2ms/step\n",
            "Epoch 29/30\n",
            "189/189 - 0s - loss: 0.2849 - accuracy: 0.9339 - val_loss: 0.2981 - val_accuracy: 0.9333 - 313ms/epoch - 2ms/step\n",
            "Epoch 30/30\n",
            "189/189 - 0s - loss: 0.2821 - accuracy: 0.9339 - val_loss: 0.2954 - val_accuracy: 0.9333 - 398ms/epoch - 2ms/step\n"
          ]
        },
        {
          "output_type": "execute_result",
          "data": {
            "text/plain": [
              "<keras.callbacks.History at 0x7fdbc8562b10>"
            ]
          },
          "metadata": {},
          "execution_count": 133
        }
      ]
    },
    {
      "cell_type": "code",
      "source": [
        "# Neural network prediction with test sets\n",
        "test_labels = []\n",
        "test_samples = []\n",
        "\n",
        "# New experiment data\n",
        "\n",
        "for i in range(10):\n",
        "    # The 5% 13-64 who experienced side effects\n",
        "    random_younger = randint(13,64)             \n",
        "    test_samples.append(random_younger)        \n",
        "    test_labels.append(1)                      \n",
        "\n",
        "    # The 5% 65-100 who did not have side effects\n",
        "    random_older = randint(65,100)              \n",
        "    test_samples.append(random_older)          \n",
        "    test_labels.append(0)                      \n",
        "\n",
        "for i in range(200):\n",
        "    # The 95% younger who did not have side effects\n",
        "    random_younger = randint(13, 64)            \n",
        "    test_samples.append(random_younger)        \n",
        "    test_labels.append(0)                      \n",
        "\n",
        "    # The 95% older who did have side effects\n",
        "    random_older = randint(65, 100)             \n",
        "    test_samples.append(random_older)          \n",
        "    test_labels.append(1)    \n",
        "\n",
        "test_labels = np.array(test_labels)\n",
        "test_samples = np.array(test_samples)\n",
        "test_labels, test_samples = shuffle(test_labels, test_samples)\n",
        "\n",
        "scaled_test_samples = scaler.fit_transform(test_samples.reshape(-1,1))\n",
        "\n",
        "# Prediction\n",
        "predictions = model.predict(scaled_test_samples, batch_size=10, verbose=0)\n",
        "#predictions = predictions[0:10]\n",
        "\n",
        "for i in predictions:\n",
        "  print(i)\n",
        "\n",
        "rounded_predictions = np.argmax(predictions,axis=-1)\n",
        "\n",
        "for i in rounded_predictions:\n",
        "  print(i)"
      ],
      "metadata": {
        "id": "ERW_j2K9gNpz"
      },
      "execution_count": null,
      "outputs": []
    },
    {
      "cell_type": "code",
      "source": [
        "# Create a confusion matrix\n",
        "%matplotlib inline\n",
        "from sklearn.metrics import confusion_matrix\n",
        "import itertools\n",
        "import matplotlib.pyplot as plt\n",
        "\n",
        "cm = confusion_matrix(y_true=test_labels,y_pred=rounded_predictions)"
      ],
      "metadata": {
        "id": "jw6Wv25Ju3CX"
      },
      "execution_count": 135,
      "outputs": []
    },
    {
      "cell_type": "code",
      "source": [
        "# Confusion matrix plot function (can be found on sklearn's website)\n",
        "# Can normalize by setting normalize=True\n",
        "def plot_confusion_matrix(cm, classes,\n",
        "                          normalize=False,\n",
        "                          title=\"Confusion Matrix\",\n",
        "                          cmap=plt.cm.Blues):\n",
        "  plt.imshow(cm, interpolation=\"nearest\", cmap=cmap)\n",
        "  plt.title(title)\n",
        "  plt.colorbar()\n",
        "  tick_marks = np.arange(len(classes))\n",
        "  plt.xticks(tick_marks, classes, rotation=45)\n",
        "  plt.yticks(tick_marks, classes)\n",
        "\n",
        "  if normalize:\n",
        "    cm = cm.astype(\"float\")/cm.sum(axis=1)[:, np.newaxis]\n",
        "    print(\"Normalized confusion matrix\")\n",
        "  else:\n",
        "    print(\"Confusion matrix without normalization\")\n",
        "\n",
        "    print(cm)\n",
        "\n",
        "    thresh = cm.max()/2.\n",
        "    for i,j in itertools.product(range(cm.shape[0]),range(cm.shape[1])):\n",
        "      plt.text(j,i,cm[i,j],\n",
        "               horizontalalignment=\"center\",\n",
        "               color=\"white\" if cm[i,j] > thresh else \"black\")\n",
        "      plt.tight_layout()\n",
        "      plt.ylabel(\"True Label\")\n",
        "      plt.xlabel(\"Predicted Label\")\n",
        "\n",
        "cm_plot_labels = [\"No Side Effects\",\"Had Side Effects\"]\n",
        "plot_confusion_matrix(cm=cm,classes=cm_plot_labels,title=\"Confusion Matrix\")"
      ],
      "metadata": {
        "colab": {
          "base_uri": "https://localhost:8080/",
          "height": 350
        },
        "id": "bHuQQLrsxzdO",
        "outputId": "27e02e01-803b-4a14-a9e5-88a8bcd9c43f"
      },
      "execution_count": 136,
      "outputs": [
        {
          "output_type": "stream",
          "name": "stdout",
          "text": [
            "Confusion matrix without normalization\n",
            "[[192  18]\n",
            " [ 10 200]]\n"
          ]
        },
        {
          "output_type": "display_data",
          "data": {
            "text/plain": [
              "<Figure size 432x288 with 2 Axes>"
            ],
            "image/png": "[encoded data removed]"
          },
          "metadata": {
            "needs_background": "light"
          }
        }
      ]
    }
  ]
}